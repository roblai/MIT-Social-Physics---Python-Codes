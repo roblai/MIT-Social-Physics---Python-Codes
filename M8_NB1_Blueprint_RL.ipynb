{
 "cells": [
  {
   "cell_type": "markdown",
   "metadata": {},
   "source": [
    "<div align=\"right\">Python 2.7 Jupyter Notebook</div>\n",
    "\n",
    "# Social analytics blueprint\n",
    "<div class=\"alert alert-warning\">\n",
    "<b>This notebook contains advanced exercises that are only applicable to students who wish to deepen their understanding and qualify for bonus marks on this course.</b> You will be able to achieve 100% for this notebook by completing Exercise 1. An optional, additional exercise (Exercise 2) can be completed to qualify for bonus marks.\n",
    "</div>\n",
    "\n",
    "### Your completion of the notebook exercises will be graded based on your ability to do the following:\n",
    "\n",
    "> **Understand**: Do your comments show evidence that you recall and understand technical concepts?"
   ]
  },
  {
   "cell_type": "markdown",
   "metadata": {},
   "source": [
    "#### Notebook objectives:\n",
    "By the end of this notebook, you will be expected to understand how to create a blueprint for social physics experiments.\n",
    " \n",
    "####  List of exercises:\n",
    "> - **Exercise 1**: Create a blueprint for a big data and social analytics project.\n",
    "- **Exercise 2 [Advanced]**: Provide an overview of typical resource requirements, and Phase 0 activities for your selected project.  "
   ]
  },
  {
   "cell_type": "markdown",
   "metadata": {},
   "source": [
    "# Notebook introduction"
   ]
  },
  {
   "cell_type": "markdown",
   "metadata": {},
   "source": [
    "This notebook is intended to serve as a blueprint that you can use in your future endeavors. You are expected to provide a high-level blueprint of a potential study, because an in-depth blueprint is beyond the scope of this course. Exercise 1 will not be graded in detail, therefore one or two sentences for each of the numbered sections is sufficient.\n",
    "\n",
    "> **Note**: Providing more information regarding your interests, experience, and background will allow for better context during the assessment. However, this is optional and does not need to be provided.\n",
    "\n",
    "The outline below is provided in an attempt to structure your thoughts. Keep in mind that typical studies, whether in academic or commercial applications, typically do not follow a straight path. As a result of this, the output is usually produced after many iterations, deviations, and potential changes in course. Living labs are longitudinal and adaptive by nature. In science, researchers uncover insights that may be different from what they had originally anticipated, and, in business, individuals may uncover new and unexpected business and improvement opportunities. You need to ensure that you spend enough time in the exploration phase of real-life projects, while ensuring that you deliver actionable results in the required timeframes. A good approach is to start with a minimum viable product, and add features to this product as your project matures.\n"
   ]
  },
  {
   "cell_type": "markdown",
   "metadata": {},
   "source": [
    "<div class=\"alert alert-info\">\n",
    "<b>Exercise 1 Start.</b>\n",
    "</div>\n",
    "\n",
    "### Instructions\n",
    "\n",
    "> Based on the content provided in Module 6's Notebook 1 (an overview of big data projects) and Module 7's Notebook 1 (an overview of the “Friends and Family” study), create a social analytics blueprint for your own topic of interest. Provide a short introductory paragraph stating your choice of industry and topic, and a description of your plan or expectations for each of the items listed below (in one or two sentences).\n",
    "\n",
    "> **Note**: Refer to the image of the scientific method, in Module 7's Notebook 1, as a refresher of the typical workflow observed when creating a social analytics blueprint and carrying out a big data project."
   ]
  },
  {
   "cell_type": "markdown",
   "metadata": {},
   "source": [
    "#### Introduction\n",
    "\n",
    "Madang is a province on the northern coast of Papua New Guinea. The population is estimated at 400,000, comprising of about 200 tribal languages (out of 800+ for whole of PNG's 7.2 million people), with Pidgin English being common. Although the province, like the rest of PNG is resource rich, it is largely undeveloped and poverty is rife. \n",
    "\n",
    "Madang town and port attracted the largest population (40,000); the rest of the people living in mountainous inland terrains where there are no roads, poor electricity reticulation and women have to walk for long distances to get drinking water. \n",
    "\n",
    "There is much to be done for the socio-economic development of Madang, given that some large projects for oil and gas exploration are looming. Moreover, the Madang land owners are adamant that these projects will only be allowed to proceed when benefits to advance the living standards of the people are part of the investment plans.\n",
    "\n",
    "For this exercise, I will pick the topic of providing water reticulation for Madang, and create the high-level social analytics blueprint (2-3 line items) for how to go about it. \n",
    "\n",
    "Note: In spite of the rough and inaccessible inland terrain, all Madang people have cell phones that are well serviced by cell phone antenna towers.\n"
   ]
  },
  {
   "cell_type": "markdown",
   "metadata": {
    "collapsed": true
   },
   "source": [
    "#### 1. Make observations \n",
    "Typically, this follows the research and context phase of the project plan. List the observations that you would like to study in your project."
   ]
  },
  {
   "cell_type": "markdown",
   "metadata": {},
   "source": [
    "Observations that I would like to study in the project are:\n",
    "\n",
    "> 1.Population map – in what locations are the people clustered; be it homes and daily occupation\n",
    "\n",
    "> 2.Population density – what is the geo-distribution of people\n",
    "\n",
    "> 3.Location of future ‘industrial’ sites, eg. oil drills, gold mines\n"
   ]
  },
  {
   "cell_type": "markdown",
   "metadata": {
    "collapsed": true
   },
   "source": [
    "####  2. Think of interesting questions\n",
    "List a few of the potential questions that you would like to answer in your project."
   ]
  },
  {
   "cell_type": "markdown",
   "metadata": {},
   "source": [
    "Potential questions that I would like to answer in the project are:\n",
    "\n",
    ">1.Where water reticulation should run from water supply to tap locations?\n",
    "\n",
    "\n",
    ">2.What reticulation capacity should be planned for the different end-points?\n",
    "\n",
    "\n",
    ">3.What water reticulation capacity should be planned for future industrial hotspots?\n",
    "\n"
   ]
  },
  {
   "cell_type": "markdown",
   "metadata": {},
   "source": [
    "####  3. Formulate a hypothesis\n",
    "State one or two hypotheses that relate to the questions listed in the previous answer."
   ]
  },
  {
   "cell_type": "markdown",
   "metadata": {},
   "source": [
    "Hypotheses that relate to the questions listed in the previous answer are:\n",
    "\n",
    "> H1 – Water reticulation and capacity requirements will be evenly spread across all 29,000 sq km (300 km long, 160 km wide) of Madang. \n",
    ">>*\tCurrent state of under-development cannot identify any socio-economic reason for people concentrations.\n",
    ">>*\tThe ~ 200 languages and tribal heritage means people are well dispersed.\n",
    "\n",
    "> H2 – The future industrial hotspots are strong indicators of where water supply and reticulation capacity need to be focused.\n",
    ">>* Expect people population clusters to gravitate towards industrial hotspots as the potential for local engagement and employment attracts people to move to closer living quarters.\n",
    "\n",
    "\n"
   ]
  },
  {
   "cell_type": "markdown",
   "metadata": {},
   "source": [
    "####  4. Develop testable predictions\n",
    "Briefly describe how you would develop testable predictions."
   ]
  },
  {
   "cell_type": "markdown",
   "metadata": {},
   "source": [
    "Testable predictions that I would develop include:\n",
    "\n",
    ">1.If H1 is correct, I should see population maps (generated from cell phone geo-spatial data) showing an even spread throughout the Madang province (minus Madang town and port).\n",
    "\n",
    ">2.If H2 is correct, the results from proposed industrial sites should show significantly higher water capacity requirements per land area.\n"
   ]
  },
  {
   "cell_type": "markdown",
   "metadata": {},
   "source": [
    "####  5. Gather data to test predictions, and execute the analysis phase\n",
    "You do not need to complete the execution aspect of this phase. Simply provide one or two observations on where you expect to source the required data, and execute the planned analysis."
   ]
  },
  {
   "cell_type": "markdown",
   "metadata": {},
   "source": [
    "I would expect to source the required data, and execute the planned analysis in the following ways:\n",
    "\n",
    ">1.It is recognized from PNG government statistics that everyone owns a cell phone with services provided by either Vodafone or Digicel. This project will install Funf on a sample population per tribe to collect the required temporal spatial data.\n",
    "\n",
    "\n",
    ">2.The Funf backend server will be installed at Madang town, possibly the local council office or the local Divine Word University.\n",
    "\n",
    ">3.Planned analysis can be done locally at Madang or remotely from the capital city (Port Moresby) or anywhere else where the data analytics skill resources are sitting.\n"
   ]
  },
  {
   "cell_type": "markdown",
   "metadata": {},
   "source": [
    " "
   ]
  },
  {
   "cell_type": "markdown",
   "metadata": {},
   "source": [
    "Once this phase is complete, you will likely have to:\n",
    "\n",
    "####  6. Refine, alter, expand, or reject your hypothesis\n",
    "Can you think of additional uses for (or other parties interested in) the data in your hypothetical use case? List them below."
   ]
  },
  {
   "cell_type": "markdown",
   "metadata": {},
   "source": [
    "Additional uses for (or other parties interested in) the data of this project include:\n",
    "\n",
    ">1.Power reticulation – using the same data, power distribution can be improved so that every household have electricity.\n",
    "\n",
    ">2.Roads construction – the population and industrial site maps will help with road planning\n",
    "\n",
    ">3.Hospital and School locations – the population and industrial site maps, along with road planning, will decide the best places to build these social amenities.\n",
    "\n",
    ">4.Containing spread of disease – once we have the population maps and the underlying social networks, the Madang health care authorities can use the data for targeted vaccinations programs, such as when there is an outbreak of malaria.\n",
    "\n",
    ">5.Distribution of wealth - the data will be used for social mapping, to more accurately validate tribal claims for land ownership and share of the benefits returned from oil and gas revenues to come in the next 3 - 5 years.\n"
   ]
  },
  {
   "cell_type": "markdown",
   "metadata": {},
   "source": [
    "After you have completed this phase, you will need to repeat phases four and five of the scientific method. Alternatively, if you do not find a need to refine, alter, expand, or reject your hypothesis, you can proceed to the final phase, which is to:\n",
    "\n",
    "####  7. Develop general theories\n",
    "Assuming that your analysis was successful, and that you were able to develop a general theory to better understand a specific topic, what changes would you propose in order to benefit from the insights gained?"
   ]
  },
  {
   "cell_type": "markdown",
   "metadata": {},
   "source": [
    "Possible changes in general theories that I could propose in order to benefit from the insights gained from this project are:\n",
    "\n",
    ">1.The high water capacity requirements from industrial hotspots can be met from lower quality water supply, eg. directly from lakes and rivers, without the need to go through costly water treatment plants.\n",
    "\n",
    ">2.Since industrial development will attract population to specific locations, the industry partner’s infrastructure should be leveraged for the construction of drinking water reticulation to the Madang people.\n",
    "\n",
    ">3.Water supply reserves (reservoirs) should be planned for potential population growth areas (likely to be near industrial sites) as a contingency plan for droughts during the dry season (May to Oct).\n"
   ]
  },
  {
   "cell_type": "markdown",
   "metadata": {},
   "source": [
    "<br>\n",
    "<div class=\"alert alert-info\">\n",
    "<b>Exercise 1 End.</b>\n",
    "</div>\n",
    "\n",
    "> **Exercise complete**:\n",
    "    \n",
    "> This is a good time to \"Save and Checkpoint\"."
   ]
  },
  {
   "cell_type": "markdown",
   "metadata": {},
   "source": [
    "<div class=\"alert alert-info\">\n",
    "<b>Exercise 2 [Advanced] Start.</b>\n",
    "</div>\n",
    "\n",
    "### Instructions\n",
    "Many of the concepts that you are required to perform in order to execute a project (from beginning to end) do not form part of the core focus of this course.\n",
    "\n",
    "Based on your experience, and with reference to the project you outlined in Exercise 1, complete the following:\n",
    "1. Provide a brief overview of the people, processes, and technological aspects that you will need to address in order to exploit the value contained in the data set you identified.\n",
    "2. Refer to the project checklist in M6_NB1, which lists the typical activities that make up the phases in a project plan. Phase 1 is covered to a large extent by Exercise 1. Provide a short description of the Phase 0 activities that you would have to address to motivate for, and initiate, the project in your environment (academic or commercial). Include one or two sentences on how you would plan for the project to be terminated.\n"
   ]
  },
  {
   "cell_type": "markdown",
   "metadata": {},
   "source": [
    "Your markdown answer here."
   ]
  },
  {
   "cell_type": "markdown",
   "metadata": {},
   "source": [
    "#### Provide a brief overview of the people, processes, and technological aspects that you will need to address in order to exploit the value contained in the data set you identified.\n",
    "\n",
    "In order to exploit the value contained in the data set identified in Exercise 1, the following aspects will need to be addressed:\n",
    "\n",
    "A. Key People Considerations:\n",
    "\n",
    ">1.Engagement of key stakeholders:\n",
    "\n",
    ">>*\tTribal landowners are the most important; without their approval and support there is nothing that can be done on their land. Fortunately, the landowners are already united over a common cause and staunch Christian faith.\n",
    ">>*\tThe landowners have already structured themselves for legitimate business, with board of directors, CEO, etc.\n",
    ">>*\tLocal government is also structured around the landowners leadership teams\n",
    ">>*\tThe central PNG government at Port Moresby, for endorsement and support – regulatory requirements, licensing, immigration visas for skilled resources, etc.\n",
    ">>*\tEither Vodafone or Digicel as the data partner\n",
    ">>*\tA financial sponsor – this could be a potential oil and gas investor.\n",
    ">>*\tWater reticulation contractor representative – assuming the contract has already been awarded.\n",
    "\n",
    ">2.Skilled technical resources\n",
    ">>*\tData Scientists and Data Analysts\n",
    ">>*\tSoftware programmers \n",
    ">>*\tMobile phones technical specialists\n",
    ">>*\tIT architects - for big data and analytics platform designs\n",
    ">>*\tIT systems and operations teams\n",
    "\n",
    ">3.Operations and Logistics resources\n",
    ">>*\tProject managers\n",
    ">>*\tFinancial management and procurement teams\n",
    ">>*\tMobile phone software (Funf) installation and end-user coach team\n",
    ">>*\tField support teams – fix Funf and mobile phone issues\n",
    "\n",
    "B. Key Process Considerations:\n",
    "\n",
    ">1.Architecture standards – a balance between the need for innovation and agility versus standardization, to leverage costs and minimize complexity.\n",
    "\n",
    ">2.Technical support – support engagement process and the service levels to ensure productivity.\n",
    "\n",
    ">3.Governance – as in steering committees, architecture boards, to fast-track decision making and ensure any regulatory compliance, eg. privacy laws.\n",
    "\n",
    ">4.Training & Skills Transfer – external skills are costly, and may be engaged initially, with plans to upskill local resources for the longer term.\n",
    "\n",
    ">5.Security – processes for SIEM (Security Incident and Event Management) as the IT systems will may expose classified data to hackers in the internet world.\n",
    "\n",
    ">6.Reports – milestone, project status updates to senior management\n",
    "\n",
    ">7.Project management – processes to contain costs and ensure delivery timelines\n",
    "\n",
    ">8.Financial and Procurement – to demonstrate due diligence, accountability, as well as adherence to regulatory requirements.\n",
    "\n",
    ">9.Change management – process to manage not just technology change, but also any business practice and organizational changes.\n",
    "\n",
    ">10.Communication – both within the project (stakeholders, technical and support teams) and external parties (government, media, etc.)\n",
    "\n",
    "C. Key Technology Considerations:\n",
    "\n",
    ">1.Technology selection – careful consideration of the choices of hardware and software technology platforms supporting big data. Depending on skills availability, open source platforms are good choices, also in keeping with technology trends.\n",
    "\n",
    ">2.Consider “cloud first” for hosting, provided the necessary security controls are in place to satisfy any PNG government regulatory compliance\n",
    "\n",
    ">3.Technology used must be light-weight, so as not to burdened with high capital cost assets and lose the speed and flexibility to exploit new trends.\n",
    "\n",
    ">4.Test and learn new technologies, allowing fail-fast and pivot, following lean enterprise principles and agile methodologies.\n",
    "\n",
    ">5.Build minimum viable products quickly to demonstrate value early to stakeholders\n",
    "\n",
    ">6.Ensure good life cycle management – consistent patches, software updates in Dev, Test, Pre-production and Production environments.\n",
    "\n",
    ">7.Ensure volume and stress testing in pre-production environments before going live in Prod.\n",
    "\n",
    "\n"
   ]
  },
  {
   "cell_type": "markdown",
   "metadata": {},
   "source": [
    "#### Provide a short description of the Phase 0 activities that you would have to address to motivate for, and initiate, the project in your environment (academic or commercial). Include one or two sentences on how you would plan for the project to be terminated.\n",
    "\n",
    "The following are Phase 0 activities that are required to address, motivate for, and initiate, the project:\n",
    "\n",
    ">1.Project vision statement (Why?) – expounding on the reasons to fulfil a business requirement.\n",
    "\n",
    ">2.Define clear scope (What?, Where?) – what is in-scope will usually translate into cost estimates. It is also useful to define what is out-of-scope to avoid ambiguity during Phase1.\n",
    "\n",
    ">3.Capture the value proposition of the project (benefits) so as to manage expectations and monitor realisation of benefits, down the track.\n",
    "\n",
    ">4.Capture clear KPIs as benchmarks to measure the success of the project and any improvements needed post-implementation\n",
    "\n",
    ">5.Define the stakeholders and project structure (Who?) – for lines of responsibility and accountability, and clarity of people roles for the right engagement.\n",
    "\n",
    ">6.Identify the top few use cases – from which we can deduce the functional and non-functional requirements as inputs to the architecture design.\n",
    "\n",
    ">7.Establish a high-level conceptual architecture (How?) – from which we have something more tangible for designs around:\n",
    "\n",
    ">>*\tUser access and identity management\n",
    ">>*\tSoftware and Hardware (hosting) platforms and their integration\n",
    ">>*\tSecurity controls – both outside and inside the firewalls\n",
    ">>*\tSystems management and monitoring\n",
    ">>*\tCapacity and Performance management of network, storage and compute\n",
    ">>*\tBackups and Disaster Recovery \n",
    "\n",
    ">8.Implementation time frame (When?) – given the use cases and their priorities, along with critical business deadlines, a gantt chart of project timeline, milestones and delivery dates can be drawn up at this stage. \n",
    "\n",
    ">9.Some ROM (rough order of magnitude) costings can also be estimated once we have the conceptual architecture and some understanding of the technology components needed. The ROM costs will include people costs and project management overheads.\n",
    "\n",
    ">10.The ROM costs can be used for initial funding requests.\n",
    "\n",
    "Finally, project termination should include the following activities:\n",
    "\n",
    ">1.Field operations team to uninstall Funf application on test users mobile phones.\n",
    "\n",
    ">2.Data destruction, as following regulatory requirements\n",
    "\n",
    ">3.Decommissioning and removal of any hardware and software.\n",
    "\n",
    ">4.Close project account and finalise fund transfer (to zero balance), as guided by project governance.\n",
    "\n",
    ">5.Distribute project closure report.\n",
    "\n",
    "\n",
    "\n",
    "\n",
    "\n"
   ]
  },
  {
   "cell_type": "markdown",
   "metadata": {
    "collapsed": true
   },
   "source": [
    "<br>\n",
    "<div class=\"alert alert-info\">\n",
    "<b>Exercise 2 [Advanced] End.</b>\n",
    "</div>\n",
    "\n",
    "> **Exercise complete**:\n",
    "    \n",
    "> This is a good time to \"Save and Checkpoint\".\n",
    "\n",
    "# Submit your notebook\n",
    "\n",
    "Please make sure that you:\n",
    "- Perform a final \"Save and Checkpoint\";\n",
    "- Download a copy of the notebook in \".ipynb\" format to your local machine using \"File\", \"Download as\", and \"IPython Notebook (.ipynb)\"; and\n",
    "- Submit a copy of this file to the Online Campus.\n",
    "\n",
    "> **Note**:\n",
    "\n",
    "> A model answer will not be provided for this notebook."
   ]
  },
  {
   "cell_type": "code",
   "execution_count": null,
   "metadata": {
    "collapsed": true
   },
   "outputs": [],
   "source": []
  }
 ],
 "metadata": {
  "kernelspec": {
   "display_name": "Python 2",
   "language": "python",
   "name": "python2"
  },
  "language_info": {
   "codemirror_mode": {
    "name": "ipython",
    "version": 2
   },
   "file_extension": ".py",
   "mimetype": "text/x-python",
   "name": "python",
   "nbconvert_exporter": "python",
   "pygments_lexer": "ipython2",
   "version": "2.7.12"
  }
 },
 "nbformat": 4,
 "nbformat_minor": 0
}
