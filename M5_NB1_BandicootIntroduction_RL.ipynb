{
 "cells": [
  {
   "cell_type": "markdown",
   "metadata": {},
   "source": [
    "<div align=\"right\">Python 2.7 Jupyter Notebook</div>\n",
    "\n",
    "# Introduction to Bandicoot\n",
    "\n",
    "### Your completion of the notebook exercises will be graded based on your ability to do the following: \n",
    "\n",
    "> **Understand**: Do your pseudo-code and comments show evidence that you recall and understand technical concepts?\n",
    "\n",
    "> **Apply**: Are you able to execute code (using the supplied examples) that performs the required functionality on supplied or generated data sets? \n",
    "\n",
    "> **Evaluate**: Are you able to interpret the results and justify your interpretation based on the observed data?"
   ]
  },
  {
   "cell_type": "markdown",
   "metadata": {},
   "source": [
    "#### Notebook objectives\n",
    "By the end of this notebook, you will be expected to:\n",
    "\n",
    "> - Understand the use of Bandicoot in automating the analysis of mobile phone data records; and\n",
    "- Understand data error handling.\n",
    " \n",
    "####  List of exercises\n",
    ">   - **Exercise 1**: Calculating the number of call contacts.\n",
    "  - **Exercise 2**: Determining average day and night weekly call activity rates.\n",
    "  - **Exercise 3**: Interpreting gender assortativity values.\n",
    "  - **Exercise 4**: Handling data errors."
   ]
  },
  {
   "cell_type": "markdown",
   "metadata": {},
   "source": [
    "# Notebook introduction\n",
    "\n",
    "This course started by introducing you to tools and techniques that can be applied in analyzing data. This notebook briefly revisits the “Friends and Family” data set (for context purposes), before demonstrating how to generate summary statistics manually, and through Bandicoot. Subsequent sections briefly demonstrate Bandicoot's visualization capabilities, how to use Bandicoot in combination with network and graph content (introduced in Module 4), error handling, and loading files from a directory."
   ]
  },
  {
   "cell_type": "markdown",
   "metadata": {},
   "source": [
    "\n",
    "<div class=\"alert alert-warning\">\n",
    "<b>Note</b>:<br>\n",
    "It is strongly recommended that you save and checkpoint after applying significant changes or completing exercises. This allows you to return the notebook to a previous state should you wish to do so. On the Jupyter menu, select \"File\", then \"Save and Checkpoint\" from the dropdown menu that appears.\n",
    "</div>"
   ]
  },
  {
   "cell_type": "markdown",
   "metadata": {},
   "source": [
    "#### Load libraries"
   ]
  },
  {
   "cell_type": "code",
   "execution_count": 1,
   "metadata": {
    "collapsed": false
   },
   "outputs": [],
   "source": [
    "import os\n",
    "import pandas as pd\n",
    "import bandicoot as bc\n",
    "import numpy as np\n",
    "import matplotlib"
   ]
  },
  {
   "cell_type": "markdown",
   "metadata": {},
   "source": [
    "# 1. Data set review\n",
    " Some of the relevant information pertaining to the “Friends and Family” data set is repeated here, as you will be focusing on the content of the data in this module's notebooks.\n",
    " \n",
    "An experiment was designed in 2011 to study how people make decisions (with emphasis on the social aspects involved) and how people can be empowered to make better decisions using personal and social tools. The data set was collected by Nadav Aharony, Wei Pan, Cory Ip, Inas Khayal, and Alex Pentland. More details about this data set are available through the [MIT Reality Commons resource](http://realitycommons.media.mit.edu/friendsdataset.html).\n",
    "\n",
    "The subjects are members of a young-family, residential, living community adjacent to a major research university in North America. All members of the community are couples, and at least one of the members is affiliated with the university. The community comprises over 400 residents, approximately half of whom have children. A pilot phase of 55 participants was launched in March 2010. In September 2010, phase two of the study included 130 participants – approximately 64 families. Participants were selected out of approximately 200 applicants in a way that would achieve a representative sample of the community and sub-communities (Aharony et al. 2011).\n",
    "\n",
    "In this module, you will prepare and analyze the data in a social context, using tools and methods introduced in previous modules.\n",
    "\n",
    "# 2. Calculating summary statistics\n",
    "To better understand the process of creating features (referred to as behavioral indicators in Bandicoot), you will start by manually creating a feature. Creating features is a tedious process. Using libraries that are tailored for specific domains (such as Bandicoot) can significantly reduce the time required to generate features that you would use as input in machine-learning algorithms. It is important for you to both understand the process and ensure that the results produced by the libraries are as expected. In other words, you need to make sure that you use the correct function from the library to produce the expected results.\n",
    "## 2.1 Average weekly call duration\n",
    "\n",
    "In the first demonstration of automated analysis using Bandicoot, you will evaluate the average weekly call duration for a specific user, based on the interaction log file.\n"
   ]
  },
  {
   "cell_type": "markdown",
   "metadata": {},
   "source": [
    "#### 2.1.1 Data preparation"
   ]
  },
  {
   "cell_type": "markdown",
   "metadata": {},
   "source": [
    "First, review the content of the text file containing the records using the “bash” command head. This function has been demonstrated in earlier notebooks, and it is extremely useful when you need to get a quick view of a data set without loading it into your analysis environment. Should the contents prove useful, you can load it as a DataFrame."
   ]
  },
  {
   "cell_type": "code",
   "execution_count": 2,
   "metadata": {
    "collapsed": false
   },
   "outputs": [
    {
     "name": "stdout",
     "output_type": "stream",
     "text": [
      "interaction,direction,correspondent_id,datetime,call_duration\r\n",
      "text,out,fa10-01-08,2010-08-20 17:34:22,\r\n",
      "text,in,bd7c809d7d47026e7390ba3c6b253d24efcbe8cf,2010-09-08 11:12:05,\r\n"
     ]
    }
   ],
   "source": [
    "# Retrieve the first three rows from the \"clean_records\" data set.\n",
    "!head -n 3 ../data/bandicoot/clean_records/fa10-01-08.csv"
   ]
  },
  {
   "cell_type": "markdown",
   "metadata": {},
   "source": [
    "The first three lines of the file are displayed.  They contain a header row, as well as two data rows.\n",
    "\n",
    "Next, load the data set using the Pandas \"`read_csv`\" function, and use the \"datetime\" field as the DataFrame index. This example only focuses on calls.  You will create a new DataFrame containing only call data by filtering by the type of interaction."
   ]
  },
  {
   "cell_type": "code",
   "execution_count": 3,
   "metadata": {
    "collapsed": false
   },
   "outputs": [
    {
     "data": {
      "text/html": [
       "<div>\n",
       "<table border=\"1\" class=\"dataframe\">\n",
       "  <thead>\n",
       "    <tr style=\"text-align: right;\">\n",
       "      <th></th>\n",
       "      <th>interaction</th>\n",
       "      <th>direction</th>\n",
       "      <th>correspondent_id</th>\n",
       "      <th>datetime</th>\n",
       "      <th>call_duration</th>\n",
       "    </tr>\n",
       "  </thead>\n",
       "  <tbody>\n",
       "    <tr>\n",
       "      <th>2011-02-16 15:28:27</th>\n",
       "      <td>call</td>\n",
       "      <td>out</td>\n",
       "      <td>fa10-01-04</td>\n",
       "      <td>2011-02-16 15:28:27</td>\n",
       "      <td>58.0</td>\n",
       "    </tr>\n",
       "    <tr>\n",
       "      <th>2011-02-16 20:05:33</th>\n",
       "      <td>call</td>\n",
       "      <td>out</td>\n",
       "      <td>906fad226144b8d883211608d1f9642f6c584299</td>\n",
       "      <td>2011-02-16 20:05:33</td>\n",
       "      <td>42.0</td>\n",
       "    </tr>\n",
       "    <tr>\n",
       "      <th>2011-02-16 20:29:59</th>\n",
       "      <td>call</td>\n",
       "      <td>in</td>\n",
       "      <td>906fad226144b8d883211608d1f9642f6c584299</td>\n",
       "      <td>2011-02-16 20:29:59</td>\n",
       "      <td>365.0</td>\n",
       "    </tr>\n",
       "  </tbody>\n",
       "</table>\n",
       "</div>"
      ],
      "text/plain": [
       "                    interaction direction  \\\n",
       "2011-02-16 15:28:27        call       out   \n",
       "2011-02-16 20:05:33        call       out   \n",
       "2011-02-16 20:29:59        call        in   \n",
       "\n",
       "                                             correspondent_id  \\\n",
       "2011-02-16 15:28:27                                fa10-01-04   \n",
       "2011-02-16 20:05:33  906fad226144b8d883211608d1f9642f6c584299   \n",
       "2011-02-16 20:29:59  906fad226144b8d883211608d1f9642f6c584299   \n",
       "\n",
       "                                datetime  call_duration  \n",
       "2011-02-16 15:28:27  2011-02-16 15:28:27           58.0  \n",
       "2011-02-16 20:05:33  2011-02-16 20:05:33           42.0  \n",
       "2011-02-16 20:29:59  2011-02-16 20:29:59          365.0  "
      ]
     },
     "execution_count": 3,
     "metadata": {},
     "output_type": "execute_result"
    }
   ],
   "source": [
    "# Specify the user for review.\n",
    "user_id = 'sp10-01-08'\n",
    "\n",
    "# Load the data set and set the index.\n",
    "interactions = pd.read_csv('../data/bandicoot/clean_records/' + user_id + '.csv')\n",
    "interactions.set_index(pd.DatetimeIndex(interactions['datetime']), inplace=True)\n",
    "\n",
    "# Extract the calls. \n",
    "calls = interactions[interactions.interaction == 'call'].copy()\n",
    "\n",
    "# Display the head of the new calls dataframe.\n",
    "calls.head(3)"
   ]
  },
  {
   "cell_type": "markdown",
   "metadata": {},
   "source": [
    "The \"correspondent_id\" field contains the user ID for the other party involved in a specific call interaction. Each \"correpondent_id\" is encoded in one of two formats: \n",
    "1. A hexadecimal integer that indicates the corresponding party did not form part of the study.\n",
    "2. A non-hexadecimal (string) data type for a party within the study group. \n",
    "\n",
    "The provided function below, \"``is_hex``\", checks if a string is hexadecimal or not."
   ]
  },
  {
   "cell_type": "code",
   "execution_count": 4,
   "metadata": {
    "collapsed": true
   },
   "outputs": [],
   "source": [
    "def is_hex(s):\n",
    "    '''\n",
    "    Check if a string is hexadecimal.\n",
    "    '''\n",
    "    try:\n",
    "        int(s, 16)\n",
    "        return True\n",
    "    except ValueError:\n",
    "        return False"
   ]
  },
  {
   "cell_type": "markdown",
   "metadata": {},
   "source": [
    "Add a column that returns a Boolean indicating whether the value of \"correspondent_id\" is a hexadecimal or not, using the function defined above. This column can be used to filter interactions that only involve those users in the study population. "
   ]
  },
  {
   "cell_type": "code",
   "execution_count": 5,
   "metadata": {
    "collapsed": false
   },
   "outputs": [],
   "source": [
    "calls['is_hex_correspondent_id'] = calls.correspondent_id.apply(lambda x: is_hex(x)).values"
   ]
  },
  {
   "cell_type": "code",
   "execution_count": 6,
   "metadata": {
    "collapsed": false
   },
   "outputs": [
    {
     "data": {
      "text/html": [
       "<div>\n",
       "<table border=\"1\" class=\"dataframe\">\n",
       "  <thead>\n",
       "    <tr style=\"text-align: right;\">\n",
       "      <th></th>\n",
       "      <th>interaction</th>\n",
       "      <th>direction</th>\n",
       "      <th>correspondent_id</th>\n",
       "      <th>datetime</th>\n",
       "      <th>call_duration</th>\n",
       "      <th>is_hex_correspondent_id</th>\n",
       "    </tr>\n",
       "  </thead>\n",
       "  <tbody>\n",
       "    <tr>\n",
       "      <th>2011-02-16 15:28:27</th>\n",
       "      <td>call</td>\n",
       "      <td>out</td>\n",
       "      <td>fa10-01-04</td>\n",
       "      <td>2011-02-16 15:28:27</td>\n",
       "      <td>58.0</td>\n",
       "      <td>False</td>\n",
       "    </tr>\n",
       "    <tr>\n",
       "      <th>2011-02-16 20:05:33</th>\n",
       "      <td>call</td>\n",
       "      <td>out</td>\n",
       "      <td>906fad226144b8d883211608d1f9642f6c584299</td>\n",
       "      <td>2011-02-16 20:05:33</td>\n",
       "      <td>42.0</td>\n",
       "      <td>True</td>\n",
       "    </tr>\n",
       "    <tr>\n",
       "      <th>2011-02-16 20:29:59</th>\n",
       "      <td>call</td>\n",
       "      <td>in</td>\n",
       "      <td>906fad226144b8d883211608d1f9642f6c584299</td>\n",
       "      <td>2011-02-16 20:29:59</td>\n",
       "      <td>365.0</td>\n",
       "      <td>True</td>\n",
       "    </tr>\n",
       "    <tr>\n",
       "      <th>2011-02-16 20:55:06</th>\n",
       "      <td>call</td>\n",
       "      <td>in</td>\n",
       "      <td>caf86d3d59c0866ac05cde465cffc2056e3cf441</td>\n",
       "      <td>2011-02-16 20:55:06</td>\n",
       "      <td>0.0</td>\n",
       "      <td>True</td>\n",
       "    </tr>\n",
       "    <tr>\n",
       "      <th>2011-02-16 21:12:25</th>\n",
       "      <td>call</td>\n",
       "      <td>out</td>\n",
       "      <td>fa10-01-04</td>\n",
       "      <td>2011-02-16 21:12:25</td>\n",
       "      <td>172.0</td>\n",
       "      <td>False</td>\n",
       "    </tr>\n",
       "  </tbody>\n",
       "</table>\n",
       "</div>"
      ],
      "text/plain": [
       "                    interaction direction  \\\n",
       "2011-02-16 15:28:27        call       out   \n",
       "2011-02-16 20:05:33        call       out   \n",
       "2011-02-16 20:29:59        call        in   \n",
       "2011-02-16 20:55:06        call        in   \n",
       "2011-02-16 21:12:25        call       out   \n",
       "\n",
       "                                             correspondent_id  \\\n",
       "2011-02-16 15:28:27                                fa10-01-04   \n",
       "2011-02-16 20:05:33  906fad226144b8d883211608d1f9642f6c584299   \n",
       "2011-02-16 20:29:59  906fad226144b8d883211608d1f9642f6c584299   \n",
       "2011-02-16 20:55:06  caf86d3d59c0866ac05cde465cffc2056e3cf441   \n",
       "2011-02-16 21:12:25                                fa10-01-04   \n",
       "\n",
       "                                datetime  call_duration  \\\n",
       "2011-02-16 15:28:27  2011-02-16 15:28:27           58.0   \n",
       "2011-02-16 20:05:33  2011-02-16 20:05:33           42.0   \n",
       "2011-02-16 20:29:59  2011-02-16 20:29:59          365.0   \n",
       "2011-02-16 20:55:06  2011-02-16 20:55:06            0.0   \n",
       "2011-02-16 21:12:25  2011-02-16 21:12:25          172.0   \n",
       "\n",
       "                    is_hex_correspondent_id  \n",
       "2011-02-16 15:28:27                   False  \n",
       "2011-02-16 20:05:33                    True  \n",
       "2011-02-16 20:29:59                    True  \n",
       "2011-02-16 20:55:06                    True  \n",
       "2011-02-16 21:12:25                   False  "
      ]
     },
     "execution_count": 6,
     "metadata": {},
     "output_type": "execute_result"
    }
   ],
   "source": [
    "calls.head()"
   ]
  },
  {
   "cell_type": "markdown",
   "metadata": {
    "collapsed": true
   },
   "source": [
    "#### 2.1.2 Calculating the weekly average call duration"
   ]
  },
  {
   "cell_type": "markdown",
   "metadata": {},
   "source": [
    "Performing the calculation is a two-step process:\n",
    "1. Attribute each call that has the value for the week the interaction occurred to the variable \"week\". \n",
    "> **Note**: This is possible, in this case, because the data  range is within a specific year. Otherwise, you would have attributed the call to both the year and the week the interaction occurred.\n",
    "2. Use the Pandas \"``pd.group_by()``\" method (demonstrated in Module 2) to bin the data on the basis of the week of interaction."
   ]
  },
  {
   "cell_type": "code",
   "execution_count": 7,
   "metadata": {
    "collapsed": false
   },
   "outputs": [
    {
     "data": {
      "text/html": [
       "<div>\n",
       "<table border=\"1\" class=\"dataframe\">\n",
       "  <thead>\n",
       "    <tr style=\"text-align: right;\">\n",
       "      <th></th>\n",
       "      <th>mean_duration</th>\n",
       "      <th>std_duration</th>\n",
       "    </tr>\n",
       "    <tr>\n",
       "      <th>week</th>\n",
       "      <th></th>\n",
       "      <th></th>\n",
       "    </tr>\n",
       "  </thead>\n",
       "  <tbody>\n",
       "    <tr>\n",
       "      <th>7</th>\n",
       "      <td>89.076923</td>\n",
       "      <td>106.805691</td>\n",
       "    </tr>\n",
       "    <tr>\n",
       "      <th>8</th>\n",
       "      <td>50.891892</td>\n",
       "      <td>57.033316</td>\n",
       "    </tr>\n",
       "    <tr>\n",
       "      <th>9</th>\n",
       "      <td>58.950000</td>\n",
       "      <td>57.964192</td>\n",
       "    </tr>\n",
       "    <tr>\n",
       "      <th>11</th>\n",
       "      <td>129.750000</td>\n",
       "      <td>160.824244</td>\n",
       "    </tr>\n",
       "    <tr>\n",
       "      <th>12</th>\n",
       "      <td>95.340000</td>\n",
       "      <td>143.375676</td>\n",
       "    </tr>\n",
       "  </tbody>\n",
       "</table>\n",
       "</div>"
      ],
      "text/plain": [
       "      mean_duration  std_duration\n",
       "week                             \n",
       "7         89.076923    106.805691\n",
       "8         50.891892     57.033316\n",
       "9         58.950000     57.964192\n",
       "11       129.750000    160.824244\n",
       "12        95.340000    143.375676"
      ]
     },
     "execution_count": 7,
     "metadata": {},
     "output_type": "execute_result"
    }
   ],
   "source": [
    "# Add a field that contains the week number corresponding to a call record. \n",
    "calls['week'] = calls.index.week\n",
    "\n",
    "# Get the mean and population(ddof=0) standard deviation of each grouping.\n",
    "weekly_averages = calls.groupby('week')['call_duration'].agg([np.mean, lambda x: np.std(x, ddof=0)])\n",
    "\n",
    "# Give the columns names that are intuitive.\n",
    "weekly_averages.columns = ['mean_duration', 'std_duration']\n",
    "\n",
    "# Review the data.\n",
    "weekly_averages.head()"
   ]
  },
  {
   "cell_type": "code",
   "execution_count": 8,
   "metadata": {
    "collapsed": false
   },
   "outputs": [
    {
     "data": {
      "text/plain": [
       "[7, 8, 9, 11, 12, 13, 14, 15, 16, 17, 18, 19, 20, 21]"
      ]
     },
     "execution_count": 8,
     "metadata": {},
     "output_type": "execute_result"
    }
   ],
   "source": [
    "# Retrieve the bins (weeks).\n",
    "list(weekly_averages.index)"
   ]
  },
  {
   "cell_type": "markdown",
   "metadata": {},
   "source": [
    "Now that you have the weekly averages and standard deviation of the call duration, you can compute the mean weekly call duration and the mean weekly call duration standard deviation."
   ]
  },
  {
   "cell_type": "code",
   "execution_count": 9,
   "metadata": {
    "collapsed": false
   },
   "outputs": [
    {
     "name": "stdout",
     "output_type": "stream",
     "text": [
      "The average weekly call duration for the user is 78.536, while the average weekly standard deviation is 123.400.\n"
     ]
    }
   ],
   "source": [
    "print (\"The average weekly call duration for the user is {:.3f}, while the average weekly standard deviation is {:.3f}.\"\n",
    "       .format(weekly_averages.mean_duration.mean(), weekly_averages.std_duration.mean()))"
   ]
  },
  {
   "cell_type": "markdown",
   "metadata": {},
   "source": [
    "It is possible to use generic data analysis libraries (such as Pandas) that were introduced to you in earlier modules. However, in the next section of this notebook, you will return to a library briefly introduced to you in Module 2 of this course, namely Bandicoot."
   ]
  },
  {
   "cell_type": "code",
   "execution_count": 10,
   "metadata": {
    "collapsed": false
   },
   "outputs": [
    {
     "data": {
      "text/html": [
       "<div>\n",
       "<table border=\"1\" class=\"dataframe\">\n",
       "  <thead>\n",
       "    <tr style=\"text-align: right;\">\n",
       "      <th></th>\n",
       "      <th>mean_duration</th>\n",
       "      <th>std_duration</th>\n",
       "    </tr>\n",
       "  </thead>\n",
       "  <tbody>\n",
       "    <tr>\n",
       "      <th>count</th>\n",
       "      <td>14.000000</td>\n",
       "      <td>14.000000</td>\n",
       "    </tr>\n",
       "    <tr>\n",
       "      <th>mean</th>\n",
       "      <td>78.535608</td>\n",
       "      <td>123.400028</td>\n",
       "    </tr>\n",
       "    <tr>\n",
       "      <th>std</th>\n",
       "      <td>22.871163</td>\n",
       "      <td>67.149227</td>\n",
       "    </tr>\n",
       "    <tr>\n",
       "      <th>min</th>\n",
       "      <td>47.969697</td>\n",
       "      <td>55.472890</td>\n",
       "    </tr>\n",
       "    <tr>\n",
       "      <th>25%</th>\n",
       "      <td>62.004365</td>\n",
       "      <td>81.833478</td>\n",
       "    </tr>\n",
       "    <tr>\n",
       "      <th>50%</th>\n",
       "      <td>76.884146</td>\n",
       "      <td>106.724466</td>\n",
       "    </tr>\n",
       "    <tr>\n",
       "      <th>75%</th>\n",
       "      <td>88.737179</td>\n",
       "      <td>148.623888</td>\n",
       "    </tr>\n",
       "    <tr>\n",
       "      <th>max</th>\n",
       "      <td>129.750000</td>\n",
       "      <td>281.684580</td>\n",
       "    </tr>\n",
       "  </tbody>\n",
       "</table>\n",
       "</div>"
      ],
      "text/plain": [
       "       mean_duration  std_duration\n",
       "count      14.000000     14.000000\n",
       "mean       78.535608    123.400028\n",
       "std        22.871163     67.149227\n",
       "min        47.969697     55.472890\n",
       "25%        62.004365     81.833478\n",
       "50%        76.884146    106.724466\n",
       "75%        88.737179    148.623888\n",
       "max       129.750000    281.684580"
      ]
     },
     "execution_count": 10,
     "metadata": {},
     "output_type": "execute_result"
    }
   ],
   "source": [
    "weekly_averages.describe()"
   ]
  },
  {
   "cell_type": "markdown",
   "metadata": {
    "collapsed": true
   },
   "source": [
    "## 2.2 Using Bandicoot\n",
    "[Bandicoot](http://bandicoot.mit.edu/docs/index.html) is an open-source Python toolbox used to analyze mobile phone metadata. You can perform actions – similar to your manual steps – with a single command, using this library. \n",
    "\n",
    "The manual analysis of data sets can be an extremely tedious and resource-intensive process. Although it is outside of the scope of this course, it is important to start considering memory utilization, reproducibility of results, and the reuse of intermediate steps when working with large data sets. Toolboxes, such as Bandicoot, are optimized for improved performance,  and specific to mobile phone metadata analysis, meaning that the functions available are specific to the type of data to be analyzed.\n",
    "\n",
    "Please review the [Bandicoot reference manual](http://bandicoot.mit.edu/docs/reference/index.html) for details on functions, modules, and objects included in Bandicoot. Bandicoot has been preinstalled on your virtual analysis environment. Revisit the [Bandicoot quick guide](http://bandicoot.mit.edu/docs/quickstart.html) should you wish to set up this library in another environment.\n",
    "\n",
    "In the following example, you will redo the analysis from the previous section, and work on additional examples of data manipulation using Bandicoot."
   ]
  },
  {
   "cell_type": "markdown",
   "metadata": {},
   "source": [
    "#### Load the data\n",
    "This example starts with using the Bandicoot “import” function to load the input files. Note that the “import” function expects data in a specific format, and it provides additional information that allows you to better understand your data set."
   ]
  },
  {
   "cell_type": "code",
   "execution_count": 11,
   "metadata": {
    "collapsed": false
   },
   "outputs": [
    {
     "name": "stderr",
     "output_type": "stream",
     "text": [
      "\u001b[33mWarning: 100.00% of the records are missing a location.\n",
      "\u001b[0m"
     ]
    },
    {
     "name": "stdout",
     "output_type": "stream",
     "text": [
      "\u001b[32m[x]\u001b[0m 3018 records from 2010-07-23 10:02:55 to 2011-05-27 16:23:21\n",
      "\u001b[32m[x]\u001b[0m 95 contacts\n",
      "\u001b[32m[ ]\u001b[0m No attribute stored\n",
      "\u001b[32m[x]\u001b[0m 27 antennas\n",
      "\u001b[32m[ ]\u001b[0m No recharges\n",
      "\u001b[32m[x]\u001b[0m Has home\n",
      "\u001b[32m[x]\u001b[0m Has texts\n",
      "\u001b[32m[x]\u001b[0m Has calls\n",
      "\u001b[32m[ ]\u001b[0m No network\n"
     ]
    }
   ],
   "source": [
    "B = bc.read_csv(user_id, '../data/bandicoot/clean_records/', '../data/bandicoot/antennas.csv')"
   ]
  },
  {
   "cell_type": "markdown",
   "metadata": {},
   "source": [
    "> **Note**:\n",
    "\n",
    "> ```WARNING:root:100.00% of the records are missing a location.```\n",
    "\n",
    "> This message indicates that our data set does not include any antenna IDs. This column was removed from the DataFrame in order to preserve user privacy. A research study on the [privacy bounds of human mobility](http://www.nature.com/articles/srep01376/) indicated that knowing four spatio-temporal points (approximate places and times of an individual) is enough to re-identify an individual in an anonymized data set in 95% of the cases.\n"
   ]
  },
  {
   "cell_type": "markdown",
   "metadata": {},
   "source": [
    "### 2.2.1 Compute the weekly average call duration\n",
    "In Bandicoot, you can achieve the same result demonstrated earlier with a single method call named \"[call_duration](http://bandicoot.mit.edu/docs/reference/generated/bandicoot.individual.call_duration.html)\"."
   ]
  },
  {
   "cell_type": "code",
   "execution_count": 12,
   "metadata": {
    "collapsed": false
   },
   "outputs": [
    {
     "data": {
      "text/plain": [
       "{\n",
       "    \"allweek\": {\n",
       "        \"allday\": {\n",
       "            \"call\": {\n",
       "                \"mean\": {\n",
       "                    \"mean\": 78.53560794244065, \n",
       "                    \"std\": 22.039203979301334\n",
       "                }, \n",
       "                \"std\": {\n",
       "                    \"mean\": 123.40002832412657, \n",
       "                    \"std\": 64.70661423960068\n",
       "                }\n",
       "            }\n",
       "        }\n",
       "    }\n",
       "}"
      ]
     },
     "execution_count": 12,
     "metadata": {},
     "output_type": "execute_result"
    }
   ],
   "source": [
    "# Calculate the call_duration summary statistics using Bandicoot.\n",
    "bc.individual.call_duration(B)"
   ]
  },
  {
   "cell_type": "markdown",
   "metadata": {},
   "source": [
    "You can see that the results (above) are in line with the manual calculation (which was rounded to five decimals) that you performed earlier.\n",
    "By default, Bandicoot computes indicators on a weekly basis, and returns the average (mean) over all of the weeks available, and the standard deviation (std), in a nested dictionary. You can read more about the [creation of indicators](http://bandicoot.mit.edu/docs/quickstart.html#computing-indicators) in the Bandicoot documentation.\n",
    "The screenshot below demonstrates the format of the output produced.\n",
    "![Screenshot of bandicoot weekly patterns for call duration](bandicoot-training-master/mini-mockups-02.png \"Screenshot of bandicoot weekly patterns for call duration.\")"
   ]
  },
  {
   "cell_type": "markdown",
   "metadata": {},
   "source": [
    "To change the default behavior, and review the daily resolution, you can use “groupby”, in Bandicoot, as a method call argument. Other grouping parameters include \"month\", \"year\", and “None”.\n",
    "Now, change the grouping resolution to \"day\", in the following call, and display a summary of additional statistics by including a parameter for the summary argument."
   ]
  },
  {
   "cell_type": "code",
   "execution_count": 13,
   "metadata": {
    "collapsed": false
   },
   "outputs": [
    {
     "data": {
      "text/plain": [
       "{\n",
       "    \"allweek\": {\n",
       "        \"allday\": {\n",
       "            \"call\": {\n",
       "                \"mean\": {\n",
       "                    \"mean\": 64.60487040060214, \n",
       "                    \"std\": 38.88886397177002\n",
       "                }, \n",
       "                \"std\": {\n",
       "                    \"mean\": 71.27957421293777, \n",
       "                    \"std\": 75.43950476977011\n",
       "                }, \n",
       "                \"median\": {\n",
       "                    \"mean\": 40.18292682926829, \n",
       "                    \"std\": 25.307199423349523\n",
       "                }, \n",
       "                \"skewness\": {\n",
       "                    \"mean\": 0.7950038691706697, \n",
       "                    \"std\": 0.9017034751166386\n",
       "                }, \n",
       "                \"kurtosis\": {\n",
       "                    \"mean\": 2.7993518047575847, \n",
       "                    \"std\": 2.4264955228944887\n",
       "                }, \n",
       "                \"min\": {\n",
       "                    \"mean\": 9.024390243902438, \n",
       "                    \"std\": 17.071567869010913\n",
       "                }, \n",
       "                \"max\": {\n",
       "                    \"mean\": 229.64634146341464, \n",
       "                    \"std\": 268.5035936513481\n",
       "                }\n",
       "            }\n",
       "        }\n",
       "    }\n",
       "}"
      ]
     },
     "execution_count": 13,
     "metadata": {},
     "output_type": "execute_result"
    }
   ],
   "source": [
    "bc.individual.call_duration(B, groupby='day', interaction='call', summary='extended')"
   ]
  },
  {
   "cell_type": "markdown",
   "metadata": {},
   "source": [
    "> **Note**:\n",
    "    \n",
    "> You will notice that you can switch between groupings by day, week, or month with ease. This is one of the advantages referred to earlier. In cases where you manually analyze the data, you would have had to manually create these features, or utilize  much more resource-intensive parsing functions in order to achieve similar results. You can choose to include all options or change to a new grouping with minimal changes required from your side, and no additional functions needing to be created."
   ]
  },
  {
   "cell_type": "markdown",
   "metadata": {},
   "source": [
    "<br>\n",
    "<div class=\"alert alert-info\">\n",
    "<b>Exercise 1 Start.</b>\n",
    "</div>\n",
    "\n",
    "### Instructions\n",
    "\n",
    "> 1. Compute the average **number of call contacts** for data set, B, grouped by:\n",
    "      1. Month; and\n",
    "      2. Week.\n",
    "\n",
    "> **Hint**: You can review the help file for the \"[number_of_contacts](http://bandicoot.mit.edu/docs/reference/generated/bandicoot.individual.number_of_contacts.html#bandicoot.individual.number_of_contacts)\" function to get started."
   ]
  },
  {
   "cell_type": "code",
   "execution_count": null,
   "metadata": {
    "collapsed": false
   },
   "outputs": [],
   "source": [
    "# Your code here."
   ]
  },
  {
   "cell_type": "markdown",
   "metadata": {},
   "source": [
    "#### the syntax is here:\n",
    "bandicoot.individual.number_of_contacts(user, groupby='week', interaction=['call', 'text'], summary='default', split_week=False, split_day=False, datatype=None, direction=None, more=0)"
   ]
  },
  {
   "cell_type": "code",
   "execution_count": 54,
   "metadata": {
    "collapsed": false
   },
   "outputs": [
    {
     "data": {
      "text/plain": [
       "{\n",
       "    \"allweek\": {\n",
       "        \"allday\": {\n",
       "            \"call\": {\n",
       "                \"mean\": 24.0, \n",
       "                \"std\": 5.244044240850758\n",
       "            }\n",
       "        }\n",
       "    }\n",
       "}"
      ]
     },
     "execution_count": 54,
     "metadata": {},
     "output_type": "execute_result"
    }
   ],
   "source": [
    "# I will do the groupby for month\n",
    "num_mth = bc.individual.number_of_contacts(B, groupby='month',interaction='call')\n",
    "num_mth"
   ]
  },
  {
   "cell_type": "code",
   "execution_count": 55,
   "metadata": {
    "collapsed": false
   },
   "outputs": [
    {
     "data": {
      "text/plain": [
       "{\n",
       "    \"allweek\": {\n",
       "        \"allday\": {\n",
       "            \"call\": {\n",
       "                \"mean\": 10.857142857142858, \n",
       "                \"std\": 3.4404555939406554\n",
       "            }\n",
       "        }\n",
       "    }\n",
       "}"
      ]
     },
     "execution_count": 55,
     "metadata": {},
     "output_type": "execute_result"
    }
   ],
   "source": [
    "# Now I will do the groupby for week\n",
    "num_week = bc.individual.number_of_contacts(B, groupby='week',interaction='call')\n",
    "num_week"
   ]
  },
  {
   "cell_type": "code",
   "execution_count": 76,
   "metadata": {
    "collapsed": false
   },
   "outputs": [
    {
     "name": "stdout",
     "output_type": "stream",
     "text": [
      "The average number of call contacts grouped by month is: 24.00\n",
      "The average number of call contacts grouped by week  is: 10.86\n"
     ]
    }
   ],
   "source": [
    "# .. and display the desired results in a nice string print\n",
    "print (\"The average number of call contacts grouped by month is: {:.2f}\"\n",
    "       .format(num_mth['allweek']['allday']['call']['mean']))\n",
    "print (\"The average number of call contacts grouped by week  is: {:.2f}\"\n",
    "       .format(num_week['allweek']['allday']['call']['mean']))"
   ]
  },
  {
   "cell_type": "markdown",
   "metadata": {},
   "source": [
    "<br>\n",
    "<div class=\"alert alert-info\">\n",
    "<b>Exercise 1 End.</b>\n",
    "</div>\n",
    "\n",
    "> **Exercise complete**:\n",
    "    \n",
    "> This is a good time to \"Save and Checkpoint\"."
   ]
  },
  {
   "cell_type": "markdown",
   "metadata": {},
   "source": [
    "### 2.2.2 Splitting records\n",
    "Regardless of the grouping time resolution, it is often useful to stratify the data between weekday and weekend, or day and night. Bandicoot allows you to achieve this with its Boolean split arguments, \"split_week\" and \"split_day\". You can read more about Bandicoot’s \"[number_of_interactions](http://bandicoot.mit.edu/docs/reference/generated/bandicoot.individual.number_of_interactions.html)\", and then execute the code below to view the data on the daily number of interactions stratified with \"split_week\". \n",
    "\n",
    "> **Note**: \n",
    "\n",
    "> This strategy is employed to generate features to be processed by machine learning algorithms, where the algorithms can identify behavior which is not visible at small scale. In 2015, a study, titled \"[Predicting Gender from Mobile Phone Metadata](https://docs.google.com/presentation/d/1gdPju5QW1bsjnZuTdqZEhCP-SbyJ1J8JleXaqkD8s2c/edit?usp=sharing)\" (presented at the Netmob Conference, Cambridge), showed that the most predictive feature for men in a South Asian country is the \"percent of calls initiated by the person during weekend nights\", while the most predictive feature for men in the European Union is \"the maximum text response delay during the week\" (Jahani et al. 2015).\n",
    "\n",
    "> <img src=\"Gender_features.png\" alt=\"Drawing\" style=\"width: 500px;\"/>\n"
   ]
  },
  {
   "cell_type": "code",
   "execution_count": 14,
   "metadata": {
    "collapsed": false
   },
   "outputs": [
    {
     "data": {
      "text/plain": [
       "{\n",
       "    \"allweek\": {\n",
       "        \"allday\": {\n",
       "            \"call\": {\n",
       "                \"mean\": 6.2560975609756095, \n",
       "                \"std\": 4.119587285774633\n",
       "            }\n",
       "        }, \n",
       "        \"day\": {\n",
       "            \"call\": {\n",
       "                \"mean\": 4.8076923076923075, \n",
       "                \"std\": 3.1462541517456484\n",
       "            }\n",
       "        }, \n",
       "        \"night\": {\n",
       "            \"call\": {\n",
       "                \"mean\": 2.3793103448275863, \n",
       "                \"std\": 1.9811837823756178\n",
       "            }\n",
       "        }\n",
       "    }\n",
       "}"
      ]
     },
     "execution_count": 14,
     "metadata": {},
     "output_type": "execute_result"
    }
   ],
   "source": [
    "# Use bandicoot to split the records by day.\n",
    "bc.individual.number_of_interactions(B, groupby='day', split_day=True, interaction='call')"
   ]
  },
  {
   "cell_type": "code",
   "execution_count": 15,
   "metadata": {
    "collapsed": false
   },
   "outputs": [
    {
     "data": {
      "text/plain": [
       "<matplotlib.axes._subplots.AxesSubplot at 0x7efbd4e6b850>"
      ]
     },
     "execution_count": 15,
     "metadata": {},
     "output_type": "execute_result"
    },
    {
     "data": {
      "image/png": "[encoded data removed]",
      "text/plain": [
       "<matplotlib.figure.Figure at 0x7efbd4e6b1d0>"
      ]
     },
     "metadata": {},
     "output_type": "display_data"
    }
   ],
   "source": [
    "# Plot the results. The mean is plotted as a barplot, with the std deviation as an error bar.\n",
    "%matplotlib inline\n",
    "\n",
    "interactions_split_by_day = bc.individual.number_of_interactions(B, groupby='day', split_day=True, interaction='call')\n",
    "\n",
    "interactions_split = []\n",
    "for period, values in interactions_split_by_day['allweek'].items():\n",
    "    interactions_split.append([period, values['call']['mean'], values['call']['std']])\n",
    "\n",
    "interactions_split = pd.DataFrame(interactions_split,columns=['period', 'mean','std'])    \n",
    "interactions_split[['period', 'mean']].plot(kind='bar' , x='period', title='Daily vs nightly interactions',\n",
    "                                            yerr=interactions_split['std'].values, )"
   ]
  },
  {
   "cell_type": "markdown",
   "metadata": {},
   "source": [
    "The argument \"`split_day`\" is now demonstrated (below) to allow you to view all available strata."
   ]
  },
  {
   "cell_type": "code",
   "execution_count": 16,
   "metadata": {
    "collapsed": false,
    "scrolled": true
   },
   "outputs": [
    {
     "data": {
      "text/plain": [
       "{\n",
       "    \"allweek\": {\n",
       "        \"allday\": {\n",
       "            \"call\": {\n",
       "                \"mean\": 6.2560975609756095, \n",
       "                \"std\": 4.119587285774633\n",
       "            }\n",
       "        }, \n",
       "        \"day\": {\n",
       "            \"call\": {\n",
       "                \"mean\": 4.8076923076923075, \n",
       "                \"std\": 3.1462541517456484\n",
       "            }\n",
       "        }, \n",
       "        \"night\": {\n",
       "            \"call\": {\n",
       "                \"mean\": 2.3793103448275863, \n",
       "                \"std\": 1.9811837823756178\n",
       "            }\n",
       "        }\n",
       "    }, \n",
       "    \"weekday\": {\n",
       "        \"allday\": {\n",
       "            \"call\": {\n",
       "                \"mean\": 6.5, \n",
       "                \"std\": 3.947573094109004\n",
       "            }\n",
       "        }, \n",
       "        \"day\": {\n",
       "            \"call\": {\n",
       "                \"mean\": 4.964912280701754, \n",
       "                \"std\": 3.1453943622477163\n",
       "            }\n",
       "        }, \n",
       "        \"night\": {\n",
       "            \"call\": {\n",
       "                \"mean\": 2.276595744680851, \n",
       "                \"std\": 1.5804945046189909\n",
       "            }\n",
       "        }\n",
       "    }, \n",
       "    \"weekend\": {\n",
       "        \"allday\": {\n",
       "            \"call\": {\n",
       "                \"mean\": 5.590909090909091, \n",
       "                \"std\": 4.488967191490821\n",
       "            }\n",
       "        }, \n",
       "        \"day\": {\n",
       "            \"call\": {\n",
       "                \"mean\": 4.380952380952381, \n",
       "                \"std\": 3.1087616655141836\n",
       "            }\n",
       "        }, \n",
       "        \"night\": {\n",
       "            \"call\": {\n",
       "                \"mean\": 2.8181818181818183, \n",
       "                \"std\": 3.1281182789245916\n",
       "            }\n",
       "        }\n",
       "    }\n",
       "}"
      ]
     },
     "execution_count": 16,
     "metadata": {},
     "output_type": "execute_result"
    }
   ],
   "source": [
    "bc.individual.number_of_interactions(B, groupby='day', split_week=True, split_day=True, interaction='call')"
   ]
  },
  {
   "cell_type": "markdown",
   "metadata": {},
   "source": [
    "> **Note**:\n",
    "\n",
    "> The number of interactions is higher for “day” compared to “night”, as well as for “weekday” compared to “weekend”. "
   ]
  },
  {
   "cell_type": "markdown",
   "metadata": {},
   "source": [
    "### 2.2.3 Other indicators\n",
    "Machine learning algorithms use features for prediction and clustering tasks. Difficulty arises when manually generating these features. However, using custom libraries (such as Bandicoot) to generate them on your behalf can significantly speed up and standardize the process. In earlier modules, you performed manual checks on data quality. Experience will teach you that this step always takes longer than anticipated, and requires significant effort to determine the relevant questions, and then to execute them. Using a standardized library such as Bandicoot saves time in analyzing data sets, and spotting data quality issues, and makes the actions repeatable or comparable with other data sets or analyses.\n",
    "\n",
    "Two additional features are demonstrated here. You can refer to the Bandicoot reference material for additional available features.\n",
    "\n",
    "#### Active days (days with at least one interaction)"
   ]
  },
  {
   "cell_type": "code",
   "execution_count": 17,
   "metadata": {
    "collapsed": false
   },
   "outputs": [
    {
     "data": {
      "text/plain": [
       "{\n",
       "    \"allweek\": {\n",
       "        \"allday\": {\n",
       "            \"callandtext\": {\n",
       "                \"mean\": 6.068181818181818, \n",
       "                \"std\": 1.3211174208485112\n",
       "            }\n",
       "        }\n",
       "    }\n",
       "}"
      ]
     },
     "execution_count": 17,
     "metadata": {},
     "output_type": "execute_result"
    }
   ],
   "source": [
    "# Active days.\n",
    "bc.individual.active_days(B)"
   ]
  },
  {
   "cell_type": "markdown",
   "metadata": {},
   "source": [
    "> **Note**: \n",
    "\n",
    "> Remember that Bandicoot defaults to grouping by week, if the grouping is not explicitly specified."
   ]
  },
  {
   "cell_type": "markdown",
   "metadata": {},
   "source": [
    "#### Number of contacts\n",
    "This number can be interesting, as some research suggests that it is predictable for humans, and that, in the long run, it is near constant for any individual. Review the following articles for additional information:\n",
    "- [Your Brain Limits You to Just Five BFFs](https://www.technologyreview.com/s/601369/your-brain-limits-you-to-just-five-bffs/)\n",
    "- [Limited communication capacity unveils strategies for human interaction](http://www.nature.com/articles/srep01950)"
   ]
  },
  {
   "cell_type": "code",
   "execution_count": 18,
   "metadata": {
    "collapsed": false
   },
   "outputs": [
    {
     "data": {
      "text/plain": [
       "{\n",
       "    \"allweek\": {\n",
       "        \"allday\": {\n",
       "            \"call\": {\n",
       "                \"mean\": 10.857142857142858, \n",
       "                \"std\": 3.4404555939406554\n",
       "            }, \n",
       "            \"text\": {\n",
       "                \"mean\": 6.5, \n",
       "                \"std\": 2.2309802166923687\n",
       "            }\n",
       "        }\n",
       "    }, \n",
       "    \"weekday\": {\n",
       "        \"allday\": {\n",
       "            \"call\": {\n",
       "                \"mean\": 9.384615384615385, \n",
       "                \"std\": 2.020603928702107\n",
       "            }, \n",
       "            \"text\": {\n",
       "                \"mean\": 5.604651162790698, \n",
       "                \"std\": 1.7932630370843723\n",
       "            }\n",
       "        }\n",
       "    }, \n",
       "    \"weekend\": {\n",
       "        \"allday\": {\n",
       "            \"call\": {\n",
       "                \"mean\": 4.3076923076923075, \n",
       "                \"std\": 2.16207220347003\n",
       "            }, \n",
       "            \"text\": {\n",
       "                \"mean\": 3.225, \n",
       "                \"std\": 1.8505066873697054\n",
       "            }\n",
       "        }\n",
       "    }\n",
       "}"
      ]
     },
     "execution_count": 18,
     "metadata": {},
     "output_type": "execute_result"
    }
   ],
   "source": [
    "# Number of contacts. \n",
    "bc.individual.number_of_contacts(B, split_week=True)"
   ]
  },
  {
   "cell_type": "markdown",
   "metadata": {},
   "source": [
    "> **Note**:\n",
    "\n",
    "> It appears as though there might be a difference between the number of people contacted by phone between the weekend and weekdays.\n",
    "\n",
    "#### All available features\n",
    "Bandicoot currently contains 1442 features. You can obtain a quick overview of the features for this data set using the Bandicoot \"[utils.all](http://bandicoot.mit.edu/docs/reference/generated/bandicoot.utils.all.html#bandicoot.utils.all)\" function. The three categories of indicators are individual, spatial, and network-related features."
   ]
  },
  {
   "cell_type": "code",
   "execution_count": 19,
   "metadata": {
    "collapsed": false
   },
   "outputs": [
    {
     "data": {
      "text/plain": [
       "{\n",
       "    \"name\": \"sp10-01-08\", \n",
       "    \"reporting\": {\n",
       "        \"antennas_path\": \"../data/bandicoot/antennas.csv\", \n",
       "        \"attributes_path\": None, \n",
       "        \"recharges_path\": None, \n",
       "        \"version\": \"0.5.3\", \n",
       "        \"code_signature\": \"9448acf6f41035dc77ec1442688b811e522ffb4d\", \n",
       "        \"groupby\": \"week\", \n",
       "        \"split_week\": false, \n",
       "        \"split_day\": false, \n",
       "        \"start_time\": \"2010-07-23 10:02:55\", \n",
       "        \"end_time\": \"2011-05-27 16:23:21\", \n",
       "        \"night_start\": \"19:00:00\", \n",
       "        \"night_end\": \"07:00:00\", \n",
       "        \"weekend\": [\n",
       "            6, \n",
       "            7\n",
       "        ], \n",
       "        \"number_of_records\": 3018, \n",
       "        \"number_of_antennas\": 27, \n",
       "        \"number_of_recharges\": 0, \n",
       "        \"bins\": 45, \n",
       "        \"bins_with_data\": 44, \n",
       "        \"bins_without_data\": 1, \n",
       "        \"has_call\": true, \n",
       "        \"has_text\": true, \n",
       "        \"has_home\": true, \n",
       "        \"has_recharges\": false, \n",
       "        \"has_attributes\": false, \n",
       "        \"has_network\": false, \n",
       "        \"percent_records_missing_location\": 1.0, \n",
       "        \"antennas_missing_locations\": 0, \n",
       "        \"percent_outofnetwork_calls\": 0, \n",
       "        \"percent_outofnetwork_texts\": 0, \n",
       "        \"percent_outofnetwork_contacts\": 0, \n",
       "        \"percent_outofnetwork_call_durations\": 0, \n",
       "        \"ignored_records\": {\n",
       "            \"all\": 0, \n",
       "            \"interaction\": 0, \n",
       "            \"location\": 0, \n",
       "            \"correspondent_id\": 0, \n",
       "            \"call_duration\": 0, \n",
       "            \"direction\": 0, \n",
       "            \"datetime\": 0\n",
       "        }\n",
       "    }, \n",
       "    \"active_days\": {\n",
       "        \"allweek\": {\n",
       "            \"allday\": {\n",
       "                \"callandtext\": {\n",
       "                    \"mean\": 6.068181818181818, \n",
       "                    \"std\": 1.3211174208485112\n",
       "                }\n",
       "            }\n",
       "        }\n",
       "    }, \n",
       "    \"number_of_contacts\": {\n",
       "        \"allweek\": {\n",
       "            \"allday\": {\n",
       "                \"call\": {\n",
       "                    \"mean\": 10.857142857142858, \n",
       "                    \"std\": 3.4404555939406554\n",
       "                }, \n",
       "                \"text\": {\n",
       "                    \"mean\": 6.5, \n",
       "                    \"std\": 2.2309802166923687\n",
       "                }\n",
       "            }\n",
       "        }\n",
       "    }, \n",
       "    \"call_duration\": {\n",
       "        \"allweek\": {\n",
       "            \"allday\": {\n",
       "                \"call\": {\n",
       "                    \"mean\": {\n",
       "                        \"mean\": 78.53560794244065, \n",
       "                        \"std\": 22.039203979301334\n",
       "                    }, \n",
       "                    \"std\": {\n",
       "                        \"mean\": 123.40002832412657, \n",
       "                        \"std\": 64.70661423960068\n",
       "                    }\n",
       "                }\n",
       "            }\n",
       "        }\n",
       "    }, \n",
       "    \"percent_nocturnal\": {\n",
       "        \"allweek\": {\n",
       "            \"allday\": {\n",
       "                \"call\": {\n",
       "                    \"mean\": 0.25899330786511954, \n",
       "                    \"std\": 0.09486493471738665\n",
       "                }, \n",
       "                \"text\": {\n",
       "                    \"mean\": 0.27227957420805143, \n",
       "                    \"std\": 0.16016889649535024\n",
       "                }\n",
       "            }\n",
       "        }\n",
       "    }, \n",
       "    \"percent_initiated_conversations\": {\n",
       "        \"allweek\": {\n",
       "            \"allday\": {\n",
       "                \"callandtext\": {\n",
       "                    \"mean\": 0.4528475374210382, \n",
       "                    \"std\": 0.13616423502535188\n",
       "                }\n",
       "            }\n",
       "        }\n",
       "    }, \n",
       "    \"percent_initiated_interactions\": {\n",
       "        \"allweek\": {\n",
       "            \"allday\": {\n",
       "                \"call\": {\n",
       "                    \"mean\": 0.6794430521762506, \n",
       "                    \"std\": 0.13597509713665354\n",
       "                }\n",
       "            }\n",
       "        }\n",
       "    }, \n",
       "    \"response_delay_text\": {\n",
       "        \"allweek\": {\n",
       "            \"allday\": {\n",
       "                \"callandtext\": {\n",
       "                    \"mean\": {\n",
       "                        \"mean\": 839.2384576488857, \n",
       "                        \"std\": 518.9938642189124\n",
       "                    }, \n",
       "                    \"std\": {\n",
       "                        \"mean\": 775.3050759323017, \n",
       "                        \"std\": 303.02270140703934\n",
       "                    }\n",
       "                }\n",
       "            }\n",
       "        }\n",
       "    }, \n",
       "    \"response_rate_text\": {\n",
       "        \"allweek\": {\n",
       "            \"allday\": {\n",
       "                \"callandtext\": {\n",
       "                    \"mean\": 0.45199581335417255, \n",
       "                    \"std\": 0.19005257633511494\n",
       "                }\n",
       "            }\n",
       "        }\n",
       "    }, \n",
       "    \"entropy_of_contacts\": {\n",
       "        \"allweek\": {\n",
       "            \"allday\": {\n",
       "                \"call\": {\n",
       "                    \"mean\": 1.8159238274742455, \n",
       "                    \"std\": 0.2828634177498679\n",
       "                }, \n",
       "                \"text\": {\n",
       "                    \"mean\": 1.3867236772903455, \n",
       "                    \"std\": 0.3817229337326083\n",
       "                }\n",
       "            }\n",
       "        }\n",
       "    }, \n",
       "    \"balance_of_contacts\": {\n",
       "        \"allweek\": {\n",
       "            \"allday\": {\n",
       "                \"call\": {\n",
       "                    \"mean\": {\n",
       "                        \"mean\": 0.07482959672600675, \n",
       "                        \"std\": 0.051769333237471474\n",
       "                    }, \n",
       "                    \"std\": {\n",
       "                        \"mean\": 0.09162055114592219, \n",
       "                        \"std\": 0.0388758929731408\n",
       "                    }\n",
       "                }, \n",
       "                \"text\": {\n",
       "                    \"mean\": {\n",
       "                        \"mean\": 0.08928202373487627, \n",
       "                        \"std\": 0.07863143909767484\n",
       "                    }, \n",
       "                    \"std\": {\n",
       "                        \"mean\": 0.07419744901736243, \n",
       "                        \"std\": 0.043255958219468746\n",
       "                    }\n",
       "                }\n",
       "            }\n",
       "        }\n",
       "    }, \n",
       "    \"interactions_per_contact\": {\n",
       "        \"allweek\": {\n",
       "            \"allday\": {\n",
       "                \"call\": {\n",
       "                    \"mean\": {\n",
       "                        \"mean\": 3.269665762575426, \n",
       "                        \"std\": 0.9117014746471332\n",
       "                    }, \n",
       "                    \"std\": {\n",
       "                        \"mean\": 4.010896471422428, \n",
       "                        \"std\": 1.7930570859396797\n",
       "                    }\n",
       "                }, \n",
       "                \"text\": {\n",
       "                    \"mean\": {\n",
       "                        \"mean\": 8.733665387642658, \n",
       "                        \"std\": 4.053615963371151\n",
       "                    }, \n",
       "                    \"std\": {\n",
       "                        \"mean\": 8.395742518319373, \n",
       "                        \"std\": 5.3919895370915425\n",
       "                    }\n",
       "                }\n",
       "            }\n",
       "        }\n",
       "    }, \n",
       "    \"interevent_time\": {\n",
       "        \"allweek\": {\n",
       "            \"allday\": {\n",
       "                \"call\": {\n",
       "                    \"mean\": {\n",
       "                        \"mean\": 14349.034892754877, \n",
       "                        \"std\": 4164.875365143588\n",
       "                    }, \n",
       "                    \"std\": {\n",
       "                        \"mean\": 23980.841556900185, \n",
       "                        \"std\": 7052.467773592711\n",
       "                    }\n",
       "                }, \n",
       "                \"text\": {\n",
       "                    \"mean\": {\n",
       "                        \"mean\": 12670.521637795498, \n",
       "                        \"std\": 9866.540875192557\n",
       "                    }, \n",
       "                    \"std\": {\n",
       "                        \"mean\": 24753.764052411032, \n",
       "                        \"std\": 14552.945111270034\n",
       "                    }\n",
       "                }\n",
       "            }\n",
       "        }\n",
       "    }, \n",
       "    \"percent_pareto_interactions\": {\n",
       "        \"allweek\": {\n",
       "            \"allday\": {\n",
       "                \"call\": {\n",
       "                    \"mean\": 0.16570068662395185, \n",
       "                    \"std\": 0.07646431444354586\n",
       "                }, \n",
       "                \"text\": {\n",
       "                    \"mean\": 0.08668567944678947, \n",
       "                    \"std\": 0.0849635585015579\n",
       "                }\n",
       "            }\n",
       "        }\n",
       "    }, \n",
       "    \"percent_pareto_durations\": {\n",
       "        \"allweek\": {\n",
       "            \"allday\": {\n",
       "                \"call\": {\n",
       "                    \"mean\": 0.11838819204406757, \n",
       "                    \"std\": 0.05407866532867487\n",
       "                }\n",
       "            }\n",
       "        }\n",
       "    }, \n",
       "    \"number_of_interactions\": {\n",
       "        \"allweek\": {\n",
       "            \"allday\": {\n",
       "                \"call\": {\n",
       "                    \"mean\": 36.642857142857146, \n",
       "                    \"std\": 17.339497203359333\n",
       "                }, \n",
       "                \"text\": {\n",
       "                    \"mean\": 56.93181818181818, \n",
       "                    \"std\": 31.96830655456967\n",
       "                }\n",
       "            }\n",
       "        }\n",
       "    }, \n",
       "    \"number_of_interaction_in\": {\n",
       "        \"allweek\": {\n",
       "            \"allday\": {\n",
       "                \"call\": {\n",
       "                    \"mean\": 11.785714285714286, \n",
       "                    \"std\": 5.808596725403421\n",
       "                }, \n",
       "                \"text\": {\n",
       "                    \"mean\": 30.295454545454547, \n",
       "                    \"std\": 16.408949256502666\n",
       "                }\n",
       "            }\n",
       "        }\n",
       "    }, \n",
       "    \"number_of_interaction_out\": {\n",
       "        \"allweek\": {\n",
       "            \"allday\": {\n",
       "                \"call\": {\n",
       "                    \"mean\": 24.857142857142858, \n",
       "                    \"std\": 13.308735814478842\n",
       "                }, \n",
       "                \"text\": {\n",
       "                    \"mean\": 26.636363636363637, \n",
       "                    \"std\": 16.322169682382793\n",
       "                }\n",
       "            }\n",
       "        }\n",
       "    }, \n",
       "    \"number_of_antennas\": {\n",
       "        \"allweek\": {\n",
       "            \"allday\": {\n",
       "                \"mean\": 1.0, \n",
       "                \"std\": 0.0\n",
       "            }\n",
       "        }\n",
       "    }, \n",
       "    \"entropy_of_antennas\": {\n",
       "        \"allweek\": {\n",
       "            \"allday\": {\n",
       "                \"mean\": 0.0, \n",
       "                \"std\": 0.0\n",
       "            }\n",
       "        }\n",
       "    }, \n",
       "    \"percent_at_home\": {\n",
       "        \"allweek\": {\n",
       "            \"allday\": {\n",
       "                \"mean\": 1.0, \n",
       "                \"std\": 0.0\n",
       "            }\n",
       "        }\n",
       "    }, \n",
       "    \"radius_of_gyration\": {\n",
       "        \"allweek\": {\n",
       "            \"allday\": {\n",
       "                \"mean\": None, \n",
       "                \"std\": None\n",
       "            }\n",
       "        }\n",
       "    }, \n",
       "    \"frequent_antennas\": {\n",
       "        \"allweek\": {\n",
       "            \"allday\": {\n",
       "                \"mean\": 1.0, \n",
       "                \"std\": 0.0\n",
       "            }\n",
       "        }\n",
       "    }, \n",
       "    \"churn_rate\": {\n",
       "        \"mean\": 0.0, \n",
       "        \"std\": 0.0\n",
       "    }\n",
       "}"
      ]
     },
     "execution_count": 19,
     "metadata": {},
     "output_type": "execute_result"
    }
   ],
   "source": [
    "bc.utils.all(B)"
   ]
  },
  {
   "cell_type": "markdown",
   "metadata": {},
   "source": [
    "> **Note**:\n",
    "\n",
    "> The “reporting” variables allow you to better understand the nature and origin of the data, as well as which computations have been performed (which version of the code, etc.). "
   ]
  },
  {
   "cell_type": "markdown",
   "metadata": {},
   "source": [
    "<br>\n",
    "<div class=\"alert alert-info\">\n",
    "<b>Exercise 2 Start.</b>\n",
    "</div>\n",
    "\n",
    "### Instructions\n",
    "\n",
    "> 1. Using Bandicoot, find the user activity rate during the week and on weekends. Show your calculations and express your answer as a percentage using the print statement. \n",
    ">> **Note**: Five days constitute the maximum number of weekdays, and two days are the maximum possible number of weekend days."
   ]
  },
  {
   "cell_type": "code",
   "execution_count": 20,
   "metadata": {
    "collapsed": false
   },
   "outputs": [
    {
     "data": {
      "text/plain": [
       "{\n",
       "    \"allweek\": {\n",
       "        \"allday\": {\n",
       "            \"callandtext\": {\n",
       "                \"mean\": 6.068181818181818, \n",
       "                \"std\": 1.3211174208485112\n",
       "            }\n",
       "        }\n",
       "    }, \n",
       "    \"weekday\": {\n",
       "        \"allday\": {\n",
       "            \"callandtext\": {\n",
       "                \"mean\": 4.604651162790698, \n",
       "                \"std\": 0.7817551773940277\n",
       "            }\n",
       "        }\n",
       "    }, \n",
       "    \"weekend\": {\n",
       "        \"allday\": {\n",
       "            \"callandtext\": {\n",
       "                \"mean\": 1.6829268292682926, \n",
       "                \"std\": 0.46533619581314434\n",
       "            }\n",
       "        }\n",
       "    }\n",
       "}"
      ]
     },
     "execution_count": 20,
     "metadata": {},
     "output_type": "execute_result"
    }
   ],
   "source": [
    "# Number of active days will include both calls and text interactions\n",
    "num_act_days = bc.individual.active_days(B, split_week=True)\n",
    "num_act_days"
   ]
  },
  {
   "cell_type": "code",
   "execution_count": 21,
   "metadata": {
    "collapsed": false
   },
   "outputs": [],
   "source": [
    "# the user activity rate during the weekday will need to divide weekday rate by 5 days\n",
    "weekdayrate = (num_act_days['weekday']['allday']['callandtext']['mean']/5*100)"
   ]
  },
  {
   "cell_type": "code",
   "execution_count": 22,
   "metadata": {
    "collapsed": false
   },
   "outputs": [],
   "source": [
    "# the user activity rate during the weekend will need to divide weekend rate by 2 days\n",
    "weekendrate = (num_act_days['weekend']['allday']['callandtext']['mean']/2*100)"
   ]
  },
  {
   "cell_type": "code",
   "execution_count": 24,
   "metadata": {
    "collapsed": false
   },
   "outputs": [
    {
     "name": "stdout",
     "output_type": "stream",
     "text": [
      "User activity rate during the weekday is: 92.09%\n",
      "User activity rate during the weekend is: 84.15%\n"
     ]
    }
   ],
   "source": [
    "# .. and display the desired results in a nice string print\n",
    "print (\"User activity rate during the weekday is: {:.2f}%\"\n",
    "       .format(weekdayrate))\n",
    "print (\"User activity rate during the weekend is: {:.2f}%\"\n",
    "       .format(weekendrate))"
   ]
  },
  {
   "cell_type": "markdown",
   "metadata": {},
   "source": [
    "<br>\n",
    "<div class=\"alert alert-info\">\n",
    "<b>Exercise 2 End.</b>\n",
    "</div>\n",
    "\n",
    "> **Exercise complete**:\n",
    "    \n",
    "> This is a good time to \"Save and Checkpoint\"."
   ]
  },
  {
   "cell_type": "markdown",
   "metadata": {},
   "source": [
    "# 3. Visualization with Bandicoot\n",
    "\n",
    "Now that you have more background information on the toolbox and its capabilities, the visualization demonstrated in Module 2 will be repeated. As Yves-Alexandre de Montjoye mentioned in the video content, visualization is a powerful tool. This is not only with regard to communicating your final results, but also in terms of checking the validity of your data, in order to identify errors and outliers. Bandicoot is also a powerful tool when used in visually identifying useful patterns that are hidden by the aggregation processes applied to the raw data."
   ]
  },
  {
   "cell_type": "code",
   "execution_count": 78,
   "metadata": {
    "collapsed": false
   },
   "outputs": [
    {
     "name": "stdout",
     "output_type": "stream",
     "text": [
      "Successfully exported the visualization to /home/ubuntu/projects/module_5/viz\n"
     ]
    },
    {
     "data": {
      "text/html": [
       "\n",
       "        <iframe\n",
       "            width=\"100%\"\n",
       "            height=\"700\"\n",
       "            src=\"./viz/index.html\"\n",
       "            frameborder=\"0\"\n",
       "            allowfullscreen\n",
       "        ></iframe>\n",
       "        "
      ],
      "text/plain": [
       "<IPython.lib.display.IFrame at 0x7f9659d478d0>"
      ]
     },
     "execution_count": 78,
     "metadata": {},
     "output_type": "execute_result"
    }
   ],
   "source": [
    "# Import the relevant libraries.\n",
    "import os\n",
    "from IPython.display import IFrame\n",
    "\n",
    "# Set the path to store the visualization.\n",
    "viz_path = os.path.dirname(os.path.realpath(__name__)) + '/viz'\n",
    "\n",
    "# Create the visualization.\n",
    "bc.visualization.export(B, viz_path)\n",
    "\n",
    "# Display the visualization in a frame within this notebook.\n",
    "IFrame(\"./viz/index.html\", \"100%\", 700)"
   ]
  },
  {
   "cell_type": "markdown",
   "metadata": {},
   "source": [
    "> **Note**:\n",
    "\n",
    "> To serve the results in the notebook, \"IFrame\" is used. You can also serve the results as a web page using tools provided in Bandicoot. This function will not be demonstrated in this course, as the required ports on the AWS virtual analysis environment have not been opened.\n",
    "\n",
    "> You can review the [Bandicoot quickstart guide](http://bandicoot.mit.edu/docs/quickstart.html#visualizing-a-user) for more details on the \"bc.visualization.run(U)\" command. You can use this function to serve the visualization as a web page if you choose to install bandicoot on infrastructure where you do have access to the default port (4242). (This port is not open on your AWS virtual analysis environment.)"
   ]
  },
  {
   "cell_type": "markdown",
   "metadata": {},
   "source": [
    "> #### Thank you for these instructions - it will come in handy for my later use after the course.. :-)"
   ]
  },
  {
   "cell_type": "markdown",
   "metadata": {},
   "source": [
    "# 4. Graphs and matrices\n",
    "\n",
    "This section contains network indicators, a gender assortativity example, and a brief demonstration of how to use Bandicoot to generate input for visualizations, using NetworkX. At the start of the course, Professor Pentland described general patterns in behavior that are observed between individuals. Understanding an individual as a part of a network is an extremely useful way to evaluate how they resemble or do not resemble their friends, as well as the role they play in their network or community.\n",
    "\n",
    "In the current “Friends and Family” data set, the majority of interactions take place outside of the population in the study. Therefore, performing the calculations on this data set does not make sense. This is because the data is not representative of the full network of contacts. In a commercial application, you would most likely encounter a similar situation as there are multiple carriers, each with only a portion of the total market share. The figures differ per country, but typically fall in the range of 10-30% market share for the main (dominant) carriers.\n",
    "You need to prepare a separate, trimmed data set to demonstrate this example.\n",
    "\n",
    "A useful feature of Bandicoot is that it analyzes a user's ego network, or individual focus node quickly, if the input data is properly formatted. Start by loading the \"ego\" in question to a Bandicoot object. You need to set the network parameter to \"True\". Bandicoot will attempt to extract all \"ego\" interaction data, and do the network analysis for the data contained in the specified network folder."
   ]
  },
  {
   "cell_type": "markdown",
   "metadata": {},
   "source": [
    "## 4.1 Load the data"
   ]
  },
  {
   "cell_type": "code",
   "execution_count": 82,
   "metadata": {
    "collapsed": false
   },
   "outputs": [
    {
     "name": "stderr",
     "output_type": "stream",
     "text": [
      "\u001b[33mWarning: 356 record(s) were removed due to missing or incomplete fields.\n",
      "         call_duration: 356 record(s) with incomplete values\n",
      "\u001b[0m\u001b[33mWarning: 100.00% of the records are missing a location.\n",
      "         No antennas file was given and records are using antennas for position.\n",
      "\u001b[0m"
     ]
    },
    {
     "name": "stdout",
     "output_type": "stream",
     "text": [
      "\u001b[32m[x]\u001b[0m 1420 records from 2010-07-23 10:02:55 to 2011-05-27 14:44:21\n",
      "\u001b[32m[x]\u001b[0m 7 contacts\n",
      "\u001b[32m[x]\u001b[0m 2 attributes\n",
      "\u001b[32m[ ]\u001b[0m No antenna stored\n",
      "\u001b[32m[ ]\u001b[0m No recharges\n",
      "\u001b[32m[x]\u001b[0m Has home\n",
      "\u001b[32m[x]\u001b[0m Has texts\n",
      "\u001b[32m[ ]\u001b[0m No calls\n",
      "\u001b[32m[x]\u001b[0m Has network\n"
     ]
    },
    {
     "name": "stderr",
     "output_type": "stream",
     "text": [
      "\u001b[33mWarning: 1451 records (12.15%) for all users in the network were not reciprocated. They have been removed.\n",
      "\u001b[0m"
     ]
    }
   ],
   "source": [
    "# Specify the network folder containing all the data.\n",
    "network_folder  = '../data/bandicoot/network_records/'\n",
    "\n",
    "# Create Bandicoot object.\n",
    "BN = bc.read_csv(user_id, network_folder, attributes_path='../data/bandicoot/attributes',network=True)"
   ]
  },
  {
   "cell_type": "markdown",
   "metadata": {},
   "source": [
    "The Bandicoot \"read_csv()\" function loads the data, provides summary information, and removes the records that are not of interest in the analysis.  Typically, performing the data cleansing steps is time-consuming, and prone to error or inconsistencies.\n",
    "\n",
    "The graph data is stored as an adjacency matrix.\n",
    "\n",
    "> **Note**:\n",
    "\n",
    "> You will recall adjacency matrices (from Module 4) as a useful mechanism to represent finite graphs. Bandicoot stores graph information in an adjacency matrix, and said matrix indexes in a different object. Once the data has been loaded, you can start exploring the graph."
   ]
  },
  {
   "cell_type": "markdown",
   "metadata": {},
   "source": [
    "## 4.2 Network indicators"
   ]
  },
  {
   "cell_type": "code",
   "execution_count": 83,
   "metadata": {
    "collapsed": false
   },
   "outputs": [
    {
     "data": {
      "text/plain": [
       "['sp10-01-08',\n",
       " 'fa10-01-14',\n",
       " 'fa10-01-20',\n",
       " 'sp10-01-07',\n",
       " 'sp10-01-38',\n",
       " 'sp10-01-39',\n",
       " 'sp10-01-41',\n",
       " 'sp10-01-49']"
      ]
     },
     "execution_count": 83,
     "metadata": {},
     "output_type": "execute_result"
    }
   ],
   "source": [
    "# Index of the adjacency matrix - user_ids participating in the network.\n",
    "node_labels = bc.network.matrix_index(BN)\n",
    "node_labels"
   ]
  },
  {
   "cell_type": "markdown",
   "metadata": {},
   "source": [
    "There are several types of adjacency matrices available in Bandicoot, including the following:\n",
    "\n",
    "* `bc.network.matrix_directed_weighted(network_user)`\n",
    "* `bc.network.matrix_directed_unweighted(network_user)`\n",
    "* `bc.network.matrix_undirected_weighted(network_user)`\n",
    "* `bc.network.matrix_undirected_unweighted(network_user)`\n",
    "\n",
    "You can review the [Bandicoot network documentation](http://bandicoot.mit.edu/docs/reference/bandicoot.network.html) for additional information."
   ]
  },
  {
   "cell_type": "code",
   "execution_count": 84,
   "metadata": {
    "collapsed": false
   },
   "outputs": [
    {
     "data": {
      "text/plain": [
       "[[0, 1, 1, 1, 1, 1, 1, 1],\n",
       " [1, 1, 0, 0, 0, 1, 1, 1],\n",
       " [1, 0, 0, 0, 0, 0, 0, 0],\n",
       " [1, 0, 0, 1, 1, 0, 1, 0],\n",
       " [1, 0, 0, 1, 0, 1, 1, 0],\n",
       " [1, 1, 0, 1, 1, 0, 1, 1],\n",
       " [1, 1, 0, 0, 1, 1, 0, 1],\n",
       " [1, 1, 0, 1, 0, 1, 1, 0]]"
      ]
     },
     "execution_count": 84,
     "metadata": {},
     "output_type": "execute_result"
    }
   ],
   "source": [
    "# Directed unweighted matrix.\n",
    "directed_unweighted = bc.network.matrix_directed_unweighted(BN)\n",
    "directed_unweighted"
   ]
  },
  {
   "cell_type": "code",
   "execution_count": 85,
   "metadata": {
    "collapsed": false
   },
   "outputs": [
    {
     "data": {
      "text/plain": [
       "[[0, 6, 7, 397, 6, 130, 8, 544],\n",
       " [6, 0, 0, 0, 0, 3, 10, 14],\n",
       " [7, 0, 0, 0, 0, 0, 0, 0],\n",
       " [397, 0, 0, 0, 56, 0, 0, 0],\n",
       " [6, 0, 0, 56, 0, 1052, 2, 0],\n",
       " [130, 3, 0, 0, 1052, 0, 27, 216],\n",
       " [8, 10, 0, 0, 2, 27, 0, 39],\n",
       " [544, 14, 0, 0, 0, 216, 39, 0]]"
      ]
     },
     "execution_count": 85,
     "metadata": {},
     "output_type": "execute_result"
    }
   ],
   "source": [
    "# Undirected weighted matrix.\n",
    "undirected_weighted = bc.network.matrix_undirected_weighted(BN)\n",
    "undirected_weighted"
   ]
  },
  {
   "cell_type": "markdown",
   "metadata": {},
   "source": [
    "## 4.3 Gender assortativity\n",
    "This indicator computes the assortativity of nominal attributes. More specifically, it measures the similarity of the current user to their correspondents for all Bandicoot indicators. For each one, it calculates the variance of the current user’s value with the values for all of their correspondents. This indicator measures the homophily of the current user with their correspondents, for each attribute. It returns a value between 0 (no assortativity) and 1 (all the contacts share the same value), which indicates the percentage of contacts sharing the same value.\n",
    "\n",
    "Let's demonstrate this by reviewing the gender assortativity."
   ]
  },
  {
   "cell_type": "code",
   "execution_count": 86,
   "metadata": {
    "collapsed": false
   },
   "outputs": [
    {
     "data": {
      "text/plain": [
       "0.7142857142857143"
      ]
     },
     "execution_count": 86,
     "metadata": {},
     "output_type": "execute_result"
    }
   ],
   "source": [
    "bc.network.assortativity_attributes(BN)['gender']"
   ]
  },
  {
   "cell_type": "markdown",
   "metadata": {},
   "source": [
    "<br>\n",
    "<div class=\"alert alert-info\">\n",
    "<b>Exercise 3 Start.</b>\n",
    "</div>\n",
    "\n",
    "### Instructions\n",
    "\n",
    "In the previous example, you obtained a value of 0.714 or 71.4% for gender assortativity. Random behavior would typically deliver a value centered around 50%, if you have enough data points. \n",
    "\n",
    "> **Question**: Do you think the value of 71.4% is meaningful or relevant?\n",
    "\n",
    "> Your answer should consist of “Yes” or “No”, and a short description of what you think the value obtained means, in terms of the data set."
   ]
  },
  {
   "cell_type": "markdown",
   "metadata": {},
   "source": [
    "Your markdown answer here."
   ]
  },
  {
   "cell_type": "markdown",
   "metadata": {},
   "source": [
    "> ### YES !\n",
    ">* We expect 'gender' data from a sample population to approximate to the central limit theorem, where the mean is 50.0%\n",
    ">* What 71.4% tells me is that the data is biased towards one gender"
   ]
  },
  {
   "cell_type": "markdown",
   "metadata": {},
   "source": [
    "<br>\n",
    "<div class=\"alert alert-info\">\n",
    "<b>Exercise 3 End.</b>\n",
    "</div>\n",
    "\n",
    "> **Exercise complete**:\n",
    "    \n",
    "> This is a good time to \"Save and Checkpoint\"."
   ]
  },
  {
   "cell_type": "markdown",
   "metadata": {},
   "source": [
    "## 4.4 Ego network visualization"
   ]
  },
  {
   "cell_type": "markdown",
   "metadata": {},
   "source": [
    "You can use the ego network adjacency matrices for further analyses in NetworkX."
   ]
  },
  {
   "cell_type": "code",
   "execution_count": 87,
   "metadata": {
    "collapsed": false
   },
   "outputs": [],
   "source": [
    "# Load the relevant libraries and set plotting options.\n",
    "import networkx as nx\n",
    "%matplotlib inline\n",
    "matplotlib.rcParams['figure.figsize'] = (18,11)"
   ]
  },
  {
   "cell_type": "markdown",
   "metadata": {},
   "source": [
    "Create directed unweighted and undirected weighted graphs to visualize  network, in order to better understand the user behavior (as per the examples in Section 1.2 of Module 4’s Notebook 2)."
   ]
  },
  {
   "cell_type": "code",
   "execution_count": 88,
   "metadata": {
    "collapsed": false
   },
   "outputs": [],
   "source": [
    "# Create the graph objects.\n",
    "G_directed_unweighted = nx.from_numpy_matrix(np.array(directed_unweighted))\n",
    "G_undirected_weighted = nx.from_numpy_matrix(np.array(undirected_weighted))\n",
    "node_labels = dict(enumerate(node_labels))"
   ]
  },
  {
   "cell_type": "markdown",
   "metadata": {},
   "source": [
    "#### 4.4.1 Plot the directed unweighted graph\n",
    "This can typically be utilized to better understand the flow or spread of information in a network."
   ]
  },
  {
   "cell_type": "code",
   "execution_count": 89,
   "metadata": {
    "collapsed": false
   },
   "outputs": [
    {
     "data": {
      "image/png": "[encoded data removed]",
      "text/plain": [
       "<matplotlib.figure.Figure at 0x7f96553553d0>"
      ]
     },
     "metadata": {},
     "output_type": "display_data"
    }
   ],
   "source": [
    "# Plot the graph.\n",
    "layout = nx.spring_layout(G_directed_unweighted)\n",
    "nx.draw(G_directed_unweighted, layout, node_color='salmon', alpha=0.4, node_size=2000)\n",
    "_ = nx.draw_networkx_labels(G_directed_unweighted, layout, node_labels)"
   ]
  },
  {
   "cell_type": "markdown",
   "metadata": {},
   "source": [
    "#### 4.4.2 Plot the undirected weighted graph\n",
    "\n",
    "This can typically be utilized to better understand the importance of the various individuals and their interactions in the network."
   ]
  },
  {
   "cell_type": "code",
   "execution_count": 91,
   "metadata": {
    "collapsed": false
   },
   "outputs": [
    {
     "data": {
      "image/png": "[encoded data removed]",
      "text/plain": [
       "<matplotlib.figure.Figure at 0x7f964edc1050>"
      ]
     },
     "metadata": {},
     "output_type": "display_data"
    }
   ],
   "source": [
    "# Plot the graph.\n",
    "layout = nx.spring_layout(G_directed_unweighted)\n",
    "nx.draw(G_undirected_weighted, layout, node_color='#CEFF22', alpha=0.4, node_size=2000)\n",
    "_ = nx.draw_networkx_labels(G_undirected_weighted, layout, node_labels)"
   ]
  },
  {
   "cell_type": "markdown",
   "metadata": {},
   "source": [
    "> **Note**:\n",
    "\n",
    "> Can you think of use cases for the various networks introduced in Module 4? \n",
    "\n",
    "> Feel free to discuss these with your fellow students on the forums."
   ]
  },
  {
   "cell_type": "markdown",
   "metadata": {},
   "source": [
    "# 5. Data error handling\n",
    "This section demonstrates some of Bandicoot’s error handling and reporting strategies for some of the \"faulty\" users. Some circumstances may require working with CDR records (and collected mobile phone metadata) that have been corrupted. The reasons for this can be numerous, but typically include wrong formats, faulty files, empty periods of time, and missing users. Bandicoot will not attempt to correct errors, as this might lead to incorrect analyses. Correctness is key in data science, and Bandicoot will:\n",
    "\n",
    "1. Warn you when you attempt to import corrupted data;\n",
    "2. Remove faulty records; and\n",
    "3. Report on more than 30 variables (such as the number of contacts, types of records, records containing location), warning you of potential issues when exporting indicators.\n",
    "\n",
    "## 5.1 Bandicoot csv import\n",
    "Importing csv files with Bandicoot will produce warnings about:\n",
    "\n",
    "1. No files containing data being found in the specified path;\n",
    "2. The percentage of records missing location information;\n",
    "3. The number of antennas missing geotags (provided the antenna file has been loaded);\n",
    "4. The fraction of duplicated records; and\n",
    "5. The fraction of calls with an overlap bigger than 5 minutes.\n"
   ]
  },
  {
   "cell_type": "code",
   "execution_count": 92,
   "metadata": {
    "collapsed": true
   },
   "outputs": [],
   "source": [
    "# Set the path and user for demonstration purposes.\n",
    "antenna_file             = '../data/bandicoot/antennas.csv'\n",
    "attributes_path          = '../data/bandicoot/attributes/'\n",
    "records_with_errors_path = '../data/bandicoot/records/'\n",
    "error_user_id            = 'fa10-01-04'"
   ]
  },
  {
   "cell_type": "markdown",
   "metadata": {},
   "source": [
    "## 5.2 Error example"
   ]
  },
  {
   "cell_type": "code",
   "execution_count": 93,
   "metadata": {
    "collapsed": false
   },
   "outputs": [
    {
     "name": "stderr",
     "output_type": "stream",
     "text": [
      "\u001b[33mWarning: 1458 record(s) were removed due to missing or incomplete fields.\n",
      "         call_duration: 1458 record(s) with incomplete values\n",
      "\u001b[0m\u001b[33mWarning: 100.00% of the records are missing a location.\n",
      "         No antennas file was given and records are using antennas for position.\n",
      "\u001b[0m"
     ]
    },
    {
     "name": "stdout",
     "output_type": "stream",
     "text": [
      "\u001b[32m[x]\u001b[0m 2408 records from 2010-09-20 13:48:57 to 2011-05-23 22:25:08\n",
      "\u001b[32m[x]\u001b[0m 54 contacts\n",
      "\u001b[32m[ ]\u001b[0m No attribute stored\n",
      "\u001b[32m[ ]\u001b[0m No antenna stored\n",
      "\u001b[32m[ ]\u001b[0m No recharges\n",
      "\u001b[32m[x]\u001b[0m Has home\n",
      "\u001b[32m[x]\u001b[0m Has texts\n",
      "\u001b[32m[x]\u001b[0m Has calls\n",
      "\u001b[32m[ ]\u001b[0m No network\n"
     ]
    },
    {
     "name": "stderr",
     "output_type": "stream",
     "text": [
      "\u001b[33mWarning: 400 record(s) are duplicated.\n",
      "\u001b[0m\u001b[33mWarning: 0.10% of calls overlap the next call by more than 5 minutes.\n",
      "\u001b[0m"
     ]
    }
   ],
   "source": [
    "errors = bc.read_csv(error_user_id, records_with_errors_path )"
   ]
  },
  {
   "cell_type": "markdown",
   "metadata": {
    "collapsed": false
   },
   "source": [
    "Review the errors below to quickly get a view of your data set. This example includes warnings that are in addition to the missing location and antenna warnings explained earlier. The new warnings include:\n",
    "\n",
    "1. Missing values of call duration;\n",
    "2. Duplicate records; and\n",
    "3. Overlapping records.\n",
    "\n",
    "### 5.2.1 Rows with missing values\n",
    "These rows are prudently  excluded, and their details can be examined using “errors.ignored_records”."
   ]
  },
  {
   "cell_type": "code",
   "execution_count": 94,
   "metadata": {
    "collapsed": false
   },
   "outputs": [
    {
     "data": {
      "text/plain": [
       "{'all': 1458,\n",
       " 'call_duration': 1458,\n",
       " 'correspondent_id': 0,\n",
       " 'datetime': 0,\n",
       " 'direction': 0,\n",
       " 'interaction': 0,\n",
       " 'location': 0}"
      ]
     },
     "execution_count": 94,
     "metadata": {},
     "output_type": "execute_result"
    }
   ],
   "source": [
    "errors.ignored_records"
   ]
  },
  {
   "cell_type": "markdown",
   "metadata": {},
   "source": [
    "### 5.2.2 Duplicated records\n",
    " These records are retained by default, but you can change this behavior by adding the parameter “drop_duplicates=True” when loading files.\n",
    "> **Warning**:\n",
    "\n",
    "> Exercise caution when using this option. The maximum timestamp resolution is one minute, and some of the records that appear to be duplicates may in fact be distinct text messages, or even, although very unlikely, very short calls. As such, it is generally advised that you examine the records before removing them."
   ]
  },
  {
   "cell_type": "code",
   "execution_count": 95,
   "metadata": {
    "collapsed": false,
    "scrolled": true
   },
   "outputs": [
    {
     "name": "stderr",
     "output_type": "stream",
     "text": [
      "\u001b[33mWarning: 1458 record(s) were removed due to missing or incomplete fields.\n",
      "         call_duration: 1458 record(s) with incomplete values\n",
      "\u001b[0m\u001b[33mWarning: 100.00% of the records are missing a location.\n",
      "         No antennas file was given and records are using antennas for position.\n",
      "\u001b[0m"
     ]
    },
    {
     "name": "stdout",
     "output_type": "stream",
     "text": [
      "\u001b[32m[x]\u001b[0m 2008 records from 2010-09-20 13:48:57 to 2011-05-23 22:25:08\n",
      "\u001b[32m[x]\u001b[0m 54 contacts\n",
      "\u001b[32m[ ]\u001b[0m No attribute stored\n",
      "\u001b[32m[ ]\u001b[0m No antenna stored\n",
      "\u001b[32m[ ]\u001b[0m No recharges\n",
      "\u001b[32m[x]\u001b[0m Has home\n",
      "\u001b[32m[x]\u001b[0m Has texts\n",
      "\u001b[32m[x]\u001b[0m Has calls\n",
      "\u001b[32m[ ]\u001b[0m No network\n"
     ]
    },
    {
     "name": "stderr",
     "output_type": "stream",
     "text": [
      "\u001b[31mWarning! 400 duplicated record(s) were removed.\n",
      "\u001b[0m\u001b[33mWarning: 0.10% of calls overlap the next call by more than 5 minutes.\n",
      "\u001b[0m"
     ]
    }
   ],
   "source": [
    "errors = bc.read_csv(error_user_id, records_with_errors_path, drop_duplicates=True)"
   ]
  },
  {
   "cell_type": "markdown",
   "metadata": {},
   "source": [
    "<br>\n",
    "<div class=\"alert alert-info\">\n",
    "<b>Exercise 4 Start.</b>\n",
    "</div>\n",
    "\n",
    "### Instructions\n",
    "> When working with data of any size or volume, data error handling can be a complex task.\n",
    "1. List three important topics to consider when performing data error handling.\n",
    "2. Provide a short description of your view of the topics to consider. Your answer should be one or two sentences in length, and can be based on an insight that you reached while completing the course material or from previous experience.\n"
   ]
  },
  {
   "cell_type": "markdown",
   "metadata": {},
   "source": [
    "Your markdown answer here."
   ]
  },
  {
   "cell_type": "markdown",
   "metadata": {},
   "source": [
    "### 1. List three important topics to consider when performing data error handling."
   ]
  },
  {
   "cell_type": "markdown",
   "metadata": {},
   "source": [
    "#### Errors frequently occur because of unexpected data values. Therefore data error handling should consider:\n",
    ">1. Data coversion errors\n",
    ">2. Expression evaluation errors\n",
    ">3. Lookup errors"
   ]
  },
  {
   "cell_type": "markdown",
   "metadata": {},
   "source": [
    "### 2. Provide a short description of your view of the topics to consider."
   ]
  },
  {
   "cell_type": "markdown",
   "metadata": {},
   "source": [
    "#### Views to consider are:"
   ]
  },
  {
   "cell_type": "markdown",
   "metadata": {},
   "source": [
    "> 1.Data coversion errors - which occur if the requested conversion is not supported. But more commonly, if a conversion results in loss of significant digits, the loss of insignificant digits, the truncation of strings, etc. Other examples include situations I have experienced when a data conversion fails because a column contains a string instead of a number, etc. or an insertion into a dataframe column fails because the data is a date and the column has a numeric data type, etc. Hence the importance of doing a Python data type check during early data exploration steps in the exercises of this course.\n",
    "\n",
    "\n",
    "> 2.Expression evaluation errors - occur if expressions that are evaluated at run time perform invalid operations or become syntactically incorrect because of missing or incorrect data values, eg: because a column value is zero, resulting in a mathematical operation that is not valid. Hence, the importance of removing missing values, that is repeatedly emphasised in this course.\n",
    "\n",
    "\n",
    "> 3.Lookup errors - which occurs if a lookup operation fails to locate a match in the lookup table. Apart from understanding what the lookup table looks like before coding, another way to handle this is to write error routines around clear data error definitions."
   ]
  },
  {
   "cell_type": "markdown",
   "metadata": {},
   "source": [
    "<br>\n",
    "<div class=\"alert alert-info\">\n",
    "<b>Exercise 4 End.</b>\n",
    "</div>\n",
    "\n",
    "> **Exercise complete**:\n",
    "    \n",
    "> This is a good time to \"Save and Checkpoint\"."
   ]
  },
  {
   "cell_type": "markdown",
   "metadata": {},
   "source": [
    "# 6. Loading the full data set\n",
    "In this section, you will load the full “Friends and Family” reality commons data set, and compute all of the metrics (briefly introduced in Section 2.2.3) for all of the users. You need to specify a \"flat\" directory, containing files where each file corresponds to a single user, as input. It is crucial that the record-file naming convention is being observed (i.e., the names of the files are the user IDs), and that each user's data resides in a separate file."
   ]
  },
  {
   "cell_type": "code",
   "execution_count": 4,
   "metadata": {
    "collapsed": false
   },
   "outputs": [
    {
     "name": "stdout",
     "output_type": "stream",
     "text": [
      "fa10-01-01.csv\tfa10-01-27.csv\tfa10-01-53.csv\tfa10-01-79.csv\tsp10-01-29.csv\r\n",
      "fa10-01-02.csv\tfa10-01-28.csv\tfa10-01-54.csv\tfa10-01-80.csv\tsp10-01-30.csv\r\n",
      "fa10-01-03.csv\tfa10-01-29.csv\tfa10-01-55.csv\tfa10-01-81.csv\tsp10-01-31.csv\r\n",
      "fa10-01-04.csv\tfa10-01-30.csv\tfa10-01-56.csv\tfa10-01-82.csv\tsp10-01-32.csv\r\n",
      "fa10-01-05.csv\tfa10-01-31.csv\tfa10-01-57.csv\tfa10-01-83.csv\tsp10-01-33.csv\r\n",
      "fa10-01-06.csv\tfa10-01-32.csv\tfa10-01-58.csv\tfa10-01-85.csv\tsp10-01-34.csv\r\n",
      "fa10-01-07.csv\tfa10-01-33.csv\tfa10-01-59.csv\tfa10-01-86.csv\tsp10-01-35.csv\r\n",
      "fa10-01-08.csv\tfa10-01-34.csv\tfa10-01-60.csv\tsp10-01-01.csv\tsp10-01-36.csv\r\n",
      "fa10-01-09.csv\tfa10-01-35.csv\tfa10-01-61.csv\tsp10-01-02.csv\tsp10-01-37.csv\r\n",
      "fa10-01-10.csv\tfa10-01-36.csv\tfa10-01-62.csv\tsp10-01-05.csv\tsp10-01-38.csv\r\n",
      "fa10-01-11.csv\tfa10-01-37.csv\tfa10-01-63.csv\tsp10-01-06.csv\tsp10-01-39.csv\r\n",
      "fa10-01-12.csv\tfa10-01-38.csv\tfa10-01-64.csv\tsp10-01-07.csv\tsp10-01-40.csv\r\n",
      "fa10-01-13.csv\tfa10-01-39.csv\tfa10-01-65.csv\tsp10-01-08.csv\tsp10-01-41.csv\r\n",
      "fa10-01-14.csv\tfa10-01-40.csv\tfa10-01-66.csv\tsp10-01-09.csv\tsp10-01-42.csv\r\n",
      "fa10-01-15.csv\tfa10-01-41.csv\tfa10-01-67.csv\tsp10-01-11.csv\tsp10-01-43.csv\r\n",
      "fa10-01-16.csv\tfa10-01-42.csv\tfa10-01-68.csv\tsp10-01-12.csv\tsp10-01-44.csv\r\n",
      "fa10-01-17.csv\tfa10-01-43.csv\tfa10-01-69.csv\tsp10-01-13.csv\tsp10-01-45.csv\r\n",
      "fa10-01-18.csv\tfa10-01-44.csv\tfa10-01-70.csv\tsp10-01-16.csv\tsp10-01-46.csv\r\n",
      "fa10-01-19.csv\tfa10-01-45.csv\tfa10-01-71.csv\tsp10-01-17.csv\tsp10-01-47.csv\r\n",
      "fa10-01-20.csv\tfa10-01-46.csv\tfa10-01-72.csv\tsp10-01-18.csv\tsp10-01-48.csv\r\n",
      "fa10-01-21.csv\tfa10-01-47.csv\tfa10-01-73.csv\tsp10-01-19.csv\tsp10-01-49.csv\r\n",
      "fa10-01-22.csv\tfa10-01-48.csv\tfa10-01-74.csv\tsp10-01-22.csv\tsp10-01-51.csv\r\n",
      "fa10-01-23.csv\tfa10-01-49.csv\tfa10-01-75.csv\tsp10-01-23.csv\tsp10-01-52.csv\r\n",
      "fa10-01-24.csv\tfa10-01-50.csv\tfa10-01-76.csv\tsp10-01-24.csv\tsp10-01-55.csv\r\n",
      "fa10-01-25.csv\tfa10-01-51.csv\tfa10-01-77.csv\tsp10-01-25.csv\tsp10-01-56.csv\r\n",
      "fa10-01-26.csv\tfa10-01-52.csv\tfa10-01-78.csv\tsp10-01-26.csv\r\n"
     ]
    }
   ],
   "source": [
    "# View the files in the directory using the operating system list function.\n",
    "!ls ../data/bandicoot/clean_records/ "
   ]
  },
  {
   "cell_type": "markdown",
   "metadata": {},
   "source": [
    "## 6.1 Load the files and create a metric\n",
    "Review the Bandicoot \"[utils.all](http://bandicoot.mit.edu/docs/reference/generated/bandicoot.utils.all.html#bandicoot.utils.all)\" page for more detail."
   ]
  },
  {
   "cell_type": "code",
   "execution_count": 5,
   "metadata": {
    "collapsed": false
   },
   "outputs": [],
   "source": [
    "# Load libraries and set path options.\n",
    "import glob, os\n",
    "records_path    = '../data/bandicoot/clean_records/'\n",
    "\n",
    "# Create an empty list and then cycle through each of the available files in the directory to add features.\n",
    "features = []\n",
    "for f in glob.glob(records_path + '*.csv'):\n",
    "    user_id = os.path.basename(f)[:-4]\n",
    "\n",
    "    try:\n",
    "        B = bc.read_csv(user_id, records_path, attributes_path=attributes_path, describe=False, warnings=False)\n",
    "        metrics_dict = bc.utils.all(B, summary='extended', split_day=True, split_week=True)\n",
    "    except Exception as e:\n",
    "        metrics_dict = {'name': user_id, 'error': str(e)}\n",
    "\n",
    "    features.append(metrics_dict)"
   ]
  },
  {
   "cell_type": "markdown",
   "metadata": {},
   "source": [
    "## 6.2 Save the interactions in a file for future use\n",
    "> **Note**: The application of machine learning techniques, using a similar data set, will be explored in the next notebook."
   ]
  },
  {
   "cell_type": "code",
   "execution_count": 6,
   "metadata": {
    "collapsed": false
   },
   "outputs": [
    {
     "name": "stdout",
     "output_type": "stream",
     "text": [
      "Successfully exported 129 object(s) to all_features.csv\n"
     ]
    }
   ],
   "source": [
    "bc.io.to_csv(features, 'all_features.csv')"
   ]
  },
  {
   "cell_type": "markdown",
   "metadata": {},
   "source": [
    "Before moving on, take a quick look at the results of the pipeline.\n",
    "\n",
    "#### 6.2.1 Review the data for the first user\n",
    "Keep in mind that, in manual approaches, you would likely have to create each of these features by hand. The process entails thinking about features, and reviewing available literature to identify applicable features. These features are used in machine learning techniques (including feature selection) for various use cases.\n",
    "\n",
    "> **Note**:\n",
    "\n",
    "> The section below will display a large number of features for the first user. You do not need to review them in detail. Here, the intention is to emphasize the ease of creating features, and the advantages of computationally-optimized functions. These are extremely useful when scaling your analyses to large record sets (such as those typically found in the telecommunications industry)."
   ]
  },
  {
   "cell_type": "markdown",
   "metadata": {},
   "source": [
    "#### 6.2.2 Review the features list"
   ]
  },
  {
   "cell_type": "code",
   "execution_count": 7,
   "metadata": {
    "collapsed": false
   },
   "outputs": [
    {
     "data": {
      "text/plain": [
       "129"
      ]
     },
     "execution_count": 7,
     "metadata": {},
     "output_type": "execute_result"
    }
   ],
   "source": [
    "# Display the length or number of users with in the features list.\n",
    "len(features)"
   ]
  },
  {
   "cell_type": "code",
   "execution_count": 8,
   "metadata": {
    "collapsed": false,
    "scrolled": false
   },
   "outputs": [
    {
     "name": "stdout",
     "output_type": "stream",
     "text": [
      "sp10-01-45\n",
      "fa10-01-53\n",
      "fa10-01-08\n",
      "fa10-01-07\n",
      "fa10-01-31\n",
      "fa10-01-55\n",
      "fa10-01-40\n",
      "sp10-01-09\n",
      "fa10-01-62\n",
      "sp10-01-32\n",
      "fa10-01-04\n",
      "fa10-01-19\n",
      "sp10-01-26\n",
      "fa10-01-44\n",
      "sp10-01-29\n",
      "fa10-01-41\n",
      "fa10-01-35\n",
      "fa10-01-13\n",
      "fa10-01-11\n",
      "fa10-01-69\n",
      "fa10-01-45\n",
      "sp10-01-56\n",
      "fa10-01-82\n",
      "sp10-01-40\n",
      "sp10-01-48\n",
      "sp10-01-55\n",
      "fa10-01-38\n",
      "sp10-01-41\n",
      "fa10-01-73\n",
      "sp10-01-47\n",
      "fa10-01-01\n",
      "sp10-01-31\n",
      "sp10-01-51\n",
      "sp10-01-25\n",
      "fa10-01-50\n",
      "fa10-01-68\n",
      "sp10-01-07\n",
      "sp10-01-44\n",
      "sp10-01-38\n",
      "fa10-01-79\n",
      "fa10-01-85\n",
      "sp10-01-11\n",
      "fa10-01-76\n",
      "fa10-01-78\n",
      "sp10-01-33\n",
      "fa10-01-77\n",
      "fa10-01-06\n",
      "fa10-01-47\n",
      "fa10-01-64\n",
      "fa10-01-14\n",
      "sp10-01-01\n",
      "fa10-01-10\n",
      "fa10-01-71\n",
      "fa10-01-25\n",
      "fa10-01-36\n",
      "sp10-01-13\n",
      "sp10-01-46\n",
      "fa10-01-17\n",
      "fa10-01-56\n",
      "fa10-01-43\n",
      "fa10-01-57\n",
      "fa10-01-20\n",
      "fa10-01-65\n",
      "fa10-01-05\n",
      "fa10-01-24\n",
      "fa10-01-66\n",
      "fa10-01-23\n",
      "fa10-01-21\n",
      "fa10-01-29\n",
      "fa10-01-15\n",
      "fa10-01-61\n",
      "fa10-01-83\n",
      "sp10-01-02\n",
      "sp10-01-18\n",
      "sp10-01-49\n",
      "fa10-01-34\n",
      "sp10-01-05\n",
      "sp10-01-35\n",
      "fa10-01-70\n",
      "fa10-01-22\n",
      "fa10-01-80\n",
      "sp10-01-22\n",
      "sp10-01-16\n",
      "fa10-01-27\n",
      "fa10-01-72\n",
      "fa10-01-33\n",
      "fa10-01-75\n",
      "fa10-01-60\n",
      "sp10-01-39\n",
      "sp10-01-24\n",
      "sp10-01-12\n",
      "fa10-01-67\n",
      "fa10-01-09\n",
      "fa10-01-42\n",
      "sp10-01-17\n",
      "fa10-01-02\n",
      "fa10-01-16\n",
      "fa10-01-52\n",
      "fa10-01-26\n",
      "fa10-01-54\n",
      "fa10-01-48\n",
      "fa10-01-74\n",
      "fa10-01-28\n",
      "sp10-01-34\n",
      "fa10-01-30\n",
      "fa10-01-12\n",
      "fa10-01-03\n",
      "sp10-01-06\n",
      "fa10-01-46\n",
      "sp10-01-42\n",
      "fa10-01-37\n",
      "sp10-01-37\n",
      "sp10-01-36\n",
      "fa10-01-63\n",
      "sp10-01-30\n",
      "fa10-01-18\n",
      "sp10-01-23\n",
      "fa10-01-51\n",
      "fa10-01-39\n",
      "sp10-01-19\n",
      "sp10-01-43\n",
      "fa10-01-81\n",
      "fa10-01-32\n",
      "fa10-01-58\n",
      "fa10-01-59\n",
      "fa10-01-86\n",
      "sp10-01-52\n",
      "sp10-01-08\n",
      "fa10-01-49\n"
     ]
    }
   ],
   "source": [
    "# Print the list of users' names contained in features list \n",
    "for u in features:\n",
    "    print u['name']"
   ]
  },
  {
   "cell_type": "code",
   "execution_count": 13,
   "metadata": {
    "collapsed": false
   },
   "outputs": [
    {
     "data": {
      "text/plain": [
       "['name', 'error']"
      ]
     },
     "execution_count": 13,
     "metadata": {},
     "output_type": "execute_result"
    }
   ],
   "source": [
    "# Print the various groups of behavioral indicators (and attributes) that are available for each user.\n",
    "# You will use the first user's data in the feature list for this.\n",
    "[key  for key,value in features[0].iteritems()]"
   ]
  },
  {
   "cell_type": "markdown",
   "metadata": {
    "collapsed": true
   },
   "source": [
    "# 7. Submit your notebook\n",
    "\n",
    "Please make sure that you:\n",
    "- Perform a final \"Save and Checkpoint\";\n",
    "- Download a copy of the notebook in \".ipynb\" format to your local machine using \"File\", \"Download as\", and \"IPython Notebook (.ipynb)\"; and\n",
    "- Submit a copy of this file to the Online Campus."
   ]
  },
  {
   "cell_type": "markdown",
   "metadata": {},
   "source": [
    "# 8. References\n",
    "Aharony, Nadav, Wei Pan, Cory Ip, Inas Khayal, Alex Pentland. 2011. “SocialfMRI: Investigating and shaping social mechanisms in the real world.” Pervasive and Mobile Computing 7:643-659.\n",
    "\n",
    "Jahani, Eaman, Pal Roe Sundsoy, Johannes Bjelland, Asif Iqbal, Alex Pentland, and Yves-Alexandre de Montjoye. 2015. “Predicting Gender from Mobile Phone Metadata.” Paper presented at the Netmob Conference, Massachusetts Institute of Technology, Cambridge, April 8-10."
   ]
  },
  {
   "cell_type": "code",
   "execution_count": null,
   "metadata": {
    "collapsed": true
   },
   "outputs": [],
   "source": []
  }
 ],
 "metadata": {
  "kernelspec": {
   "display_name": "Python 2",
   "language": "python",
   "name": "python2"
  },
  "language_info": {
   "codemirror_mode": {
    "name": "ipython",
    "version": 2
   },
   "file_extension": ".py",
   "mimetype": "text/x-python",
   "name": "python",
   "nbconvert_exporter": "python",
   "pygments_lexer": "ipython2",
   "version": "2.7.12"
  }
 },
 "nbformat": 4,
 "nbformat_minor": 0
}
