{
 "cells": [
  {
   "cell_type": "markdown",
   "metadata": {},
   "source": [
    "<div align=\"right\">Python 2.7 Jupyter Notebook</div>\n",
    "\n",
    "# Graph signal processing\n"
   ]
  },
  {
   "cell_type": "markdown",
   "metadata": {},
   "source": [
    "<br>\n",
    "<div class=\"alert alert-warning\">\n",
    "<b>Note</b>:<br> You have been provided with the code required to execute the content of this notebook. Due to the time required for installation, and the strain on the virtual analysis environment, the output has been included as static images, and you should not attempt to execute the code cells.\n",
    "</div>"
   ]
  },
  {
   "cell_type": "markdown",
   "metadata": {},
   "source": [
    "# Notebook introduction"
   ]
  },
  {
   "cell_type": "markdown",
   "metadata": {},
   "source": [
    "The video content highlighted the importance of understanding graphs as data representation objects that can capture and describe relationships between data entities. Applications of graphs extend across numerous network types, including transportation, geographical, and social networks. The weight associated with each edge in the graph often represents the similarity between the two vertices it connects, or the strength of such a relationship. The earlier notebooks in this module demonstrated how to explore and exploit edge structure (connectedness) properties in order to understand the structure of the graphs. You were then able to use this knowledge in clustering, and the identification of communities in graphs (using graph partitioning algorithms). Besides the information about the relationship between connected components, there is an ever-increasing amount of information about the components themselves as a result of big data. Therefore, a field of research and application (graph signal processing), which is based on a simple model for graph-structured data (a **graph signal**), is emerging.\n",
    "\n",
    "The data on these graphs can be visualized as a finite collection of samples, with one sample at each vertex in the graph, and each such sample described by a scalar value. The collection of these scalar samples, defined on each vertex of a graph, is referred to as a graph signal. The [figure](https://arxiv.org/pdf/1211.0053v2.pdf) below shows an example of a graph signal, where each bar represents a random positive value generated on the vertices of a Petersen graph (Shuman et al. 2013). Thus, the relational structure is now paired with measurements on the nodes of the network.\n",
    "\n",
    "![Petersen graph signal](img/petersen_graph_signal.png \"Petersen graph signal.\")\n",
    "\n",
    "Graph signal processing can be considered a generalization of the classical signal processing framework in the graph spectral domain. As discussed in the video content, just as the frequency-based domain representation of a signal decomposes a signal into harmonics of varying frequencies, so too does graph signal processing demonstrate how fast a graph signal changes with respect to graph topology. For example, this can be used in tracking the shifts of personal preferences between friends in a social network. \n",
    "\n",
    "In graph signal processing, the graph Laplacian matrix is the core operator. The spectral decomposition of this matrix results in eigenspaces. This approach is similar to the use of sinusoidal functions in classical frequency analysis. Graph-based signal processing can be used in compression, denoising, interpolation, and many other applications. \n",
    "\n",
    "Example applications of graph signal processing include the following:\n",
    "- **Sensor networks:** This is in terms of the relative positions of sensors, and temperature. Does temperature vary smoothly?\n",
    "- **Social network analysis:** This analysis can be done on aspects such as friendship, relationship, and age. Are friends of similar ages?\n",
    "- **Image processing:** This is in terms of pixel positions and similarity, pixel values, discontinuities, and smoothness.\n",
    "- **Mobility inference:** This inference can enable an understanding of people’s behaviors, while simultaneously protecting their privacy.\n",
    "\n",
    "Next, this notebook will demonstrate simple filtering applications based on graph signal processing. This material is primarily for review purposes only. A good mathematical foundation in linear algebra and calculus is required for a more thorough treatment of this topic.\n",
    "\n",
    "**Note**:\n",
    "> The examples that follow make use of [PYGSP](http://pygsp.readthedocs.io/en/latest/), the graph signal processing Python module. This module is not installed because it may cause instability of your AWS instance. The code used to generate the results has been provided for you to review separately.  "
   ]
  },
  {
   "cell_type": "markdown",
   "metadata": {},
   "source": [
    "# 1. Generic example of graph signal processing \n",
    "\n",
    "#### Load libraries"
   ]
  },
  {
   "cell_type": "code",
   "execution_count": 1,
   "metadata": {
    "collapsed": false
   },
   "outputs": [
    {
     "data": {
      "text/html": [
       "%matplotlib inline\n",
       "import matplotlib\n",
       "#import pygsp #Uncomment if you have pygsp installed.\n",
       "import numpy as np\n",
       "import matplotlib.pylab as plt\n",
       "import networkx as nx\n",
       "import pandas as pd\n",
       "\n",
       "plt.rcParams['figure.figsize'] = (6, 6)"
      ],
      "text/plain": [
       "<IPython.core.display.HTML object>"
      ]
     },
     "metadata": {},
     "output_type": "display_data"
    }
   ],
   "source": [
    "%%html\n",
    "%matplotlib inline\n",
    "import matplotlib\n",
    "#import pygsp #Uncomment if you have pygsp installed.\n",
    "import numpy as np\n",
    "import matplotlib.pylab as plt\n",
    "import networkx as nx\n",
    "import pandas as pd\n",
    "\n",
    "plt.rcParams['figure.figsize'] = (6, 6)"
   ]
  },
  {
   "cell_type": "markdown",
   "metadata": {},
   "source": [
    "First, simple filtering on a noisy graph signal will be demonstrated. This is based on an example in an article by Nathanael Perraudin et al. (2016) titled \"[GSPBOX: A toolbox for signal processing on graphs](http://arxiv.org/pdf/1408.5781.pdf)\".\n",
    "> **Note:** \n",
    "\n",
    ">The code below is included for review purposes only. As a safeguard, the code cell will output HTML when run."
   ]
  },
  {
   "cell_type": "code",
   "execution_count": 2,
   "metadata": {
    "collapsed": false
   },
   "outputs": [
    {
     "data": {
      "text/html": [
       "## Create a graph.\n",
       "N = 100 # number of nodes.\n",
       "G = pygsp.graphs.Sensor(N)\n",
       "## Compute the Fourier basis.\n",
       "G.compute_fourier_basis()\n",
       "\n",
       "## Create a smooth signal with noise.\n",
       "## The second Eigenvector of the Laplacian matrix, often called the Fiedler vector, \n",
       "# can be considered as a smooth graph signal.\n",
       "x = G.U[:, 1]\n",
       "\n",
       "y = x + np.random.normal(scale=1/np.sqrt(N), size=N)\n",
       "\n",
       "## Select a filter.\n",
       "filter = pygsp.filters.Expwin(G, 0.1)\n",
       "\n",
       "## Filter the noise.\n",
       "s = filter.analysis(y)\n",
       "\n",
       "## Display the original signal.\n",
       "G.plot_signal(x, default_qtg=False, plot_name='original_signal',savefig=True)\n",
       "\n",
       "## Display the noisy signal.\n",
       "G.plot_signal(y, default_qtg=False, plot_name='noisy_signal',savefig=True)\n",
       "\n",
       "## Display the filtered signal.\n",
       "G.plot_signal(s, default_qtg=False, plot_name='filtered_signal',savefig=True)"
      ],
      "text/plain": [
       "<IPython.core.display.HTML object>"
      ]
     },
     "metadata": {},
     "output_type": "display_data"
    }
   ],
   "source": [
    "%%html\n",
    "## Create a graph.\n",
    "N = 100 # number of nodes.\n",
    "G = pygsp.graphs.Sensor(N)\n",
    "## Compute the Fourier basis.\n",
    "G.compute_fourier_basis()\n",
    "\n",
    "## Create a smooth signal with noise.\n",
    "## The second Eigenvector of the Laplacian matrix, often called the Fiedler vector, \n",
    "# can be considered as a smooth graph signal.\n",
    "x = G.U[:, 1]\n",
    "\n",
    "y = x + np.random.normal(scale=1/np.sqrt(N), size=N)\n",
    "\n",
    "## Select a filter.\n",
    "filter = pygsp.filters.Expwin(G, 0.1)\n",
    "\n",
    "## Filter the noise.\n",
    "s = filter.analysis(y)\n",
    "\n",
    "## Display the original signal.\n",
    "G.plot_signal(x, default_qtg=False, plot_name='original_signal',savefig=True)\n",
    "\n",
    "## Display the noisy signal.\n",
    "G.plot_signal(y, default_qtg=False, plot_name='noisy_signal',savefig=True)\n",
    "\n",
    "## Display the filtered signal.\n",
    "G.plot_signal(s, default_qtg=False, plot_name='filtered_signal',savefig=True)"
   ]
  },
  {
   "cell_type": "markdown",
   "metadata": {},
   "source": [
    "![Graph signal processing demo.](img/gsp_demo.jpg \"Graph signal processing demo.\")"
   ]
  },
  {
   "cell_type": "markdown",
   "metadata": {},
   "source": [
    "## 2. References\n",
    "\n",
    "1. Perraudin, Nathanael, Johan Paratte, David Shuman, Lionel Martin, Vassilis Kalofolias, Pierre Vandergheynst, and David K. Hammond. 2016. “GSPBOX: A tool for signal processing on graphs.” arXiv eprint arXiv:1408.5781v2.\n",
    "\n",
    "2. Shuman, David I., Sunil K. Narang, Pascal Frossard, Antonio Ortega, and Pierre Vandergheynst. 2013. “The Emerging Field of Signal Processing on Graphs: Extending High-Dimensional Data Analysis to Networks and Other Irregular Domains.” arXiv eprint arXiv:1211.0053v2. doi:10.1109/MSP.2012.2235192.\n"
   ]
  },
  {
   "cell_type": "code",
   "execution_count": null,
   "metadata": {
    "collapsed": true
   },
   "outputs": [],
   "source": []
  }
 ],
 "metadata": {
  "anaconda-cloud": {},
  "kernelspec": {
   "display_name": "Python 2",
   "language": "python",
   "name": "python2"
  },
  "language_info": {
   "codemirror_mode": {
    "name": "ipython",
    "version": 2
   },
   "file_extension": ".py",
   "mimetype": "text/x-python",
   "name": "python",
   "nbconvert_exporter": "python",
   "pygments_lexer": "ipython2",
   "version": "2.7.12"
  }
 },
 "nbformat": 4,
 "nbformat_minor": 0
}
