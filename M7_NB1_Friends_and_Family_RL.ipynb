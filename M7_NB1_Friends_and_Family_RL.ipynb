{
 "cells": [
  {
   "cell_type": "markdown",
   "metadata": {},
   "source": [
    "<div align=\"right\">Python 2.7 Jupyter Notebook</div>\n",
    "\n",
    "# \"Friends and Family\" study review\n",
    "\n",
    "### Your completion of the notebook exercises will be graded based on your ability to do the following:\n",
    "\n",
    "> **Understand**: Do your pseudo-code and comments show evidence that you recall and understand technical concepts?"
   ]
  },
  {
   "cell_type": "markdown",
   "metadata": {},
   "source": [
    "#### Notebook objectives:\n",
    "By the end of this notebook, you will be expected to:\n",
    "> - Explain the scientific method;\n",
    "- Understand the correlation between social behaviors and the wealth and economic development of communities; and\n",
    "- Distinguish various gamification strategies, and their use in social science.\n",
    " \n",
    "####  List of exercises:\n",
    "> - **Exercise 1**: Compare the design of the \"Friends and Family\" study to typical gamification strategies."
   ]
  },
  {
   "cell_type": "markdown",
   "metadata": {},
   "source": [
    "\n",
    "\n",
    "# Notebook introduction\n",
    "The first notebook of Module 6 dealt with a holistic project overview. As a continuation of that overview, this notebook highlights selected portions of the “[Friends and Family](http://realitycommons.media.mit.edu/friendsdataset.html)” study (Aharony et al. 2011) in order to prepare you to create a blueprint for your own project in Module 8.\n",
    "\n",
    "> **Note**: Please refer to the notes at the start of Sections 1 to 4 in this notebook to see which sections of the [Aharony et al. (2011)](http://realitycommons.media.mit.edu/download.php?file=FriendsAndFamily.pdf) study, are discussed.\n",
    "\n",
    "\n",
    "# 1. The social fMRI approach\n",
    "> **Note:** Refer to Section 6 of Aharony et al. (2011).\n",
    "\n",
    "The social fMRI’s data-rich methodology allows for the initial exploration of specific questions, as discussed in the paper, as well as the design of subsequent components and sub-experiments in the longitudinal study. In scientific studies, you typically start with the project definition, and specific questions and hypotheses to be investigated. The data and insights that you gain as you analyze available data will lead you to form and investigate new hypotheses. You will then need to revisit and review these hypotheses against the high-level goals of the study, and communicate with various project stakeholders. A schematic representation of the iterative nature of the [scientific method](http://idea.ucr.edu/documents/flash/scientific_method/story.htm) to investigating hypotheses and answering questions of interest is depicted below (Garland 2015).\n",
    "\n",
    "![Scientific method](Scientific_Method.png \"Overview of scientific method.\")"
   ]
  },
  {
   "cell_type": "markdown",
   "metadata": {},
   "source": [
    "# 2. Investigating behavior choices\n",
    "> **Note:** Refer to Section 7 of Aharony et al. (2011).\n",
    "\n",
    "The discovery of a strong correlation between social interaction patterns and the wealth and economical development of a community has attracted significant attention (Eagle et al. 2010). A current challenge is to understand the causality underlying this. Eagle et al. (2010) note that the users’ social diversity patterns only correlate with their current income (as illustrated in Figures 5 and 6 in Aharony et al. (2011)). However, these observations suggest the opposite: individuals will quickly lose their diversity in social interaction when their financial status worsens. Therefore, individuals will quickly gain their social interaction diversity when their financial status improves. This result demonstrates how social fMRI-type studies can provide novel perspectives on long-standing debates in social science."
   ]
  },
  {
   "cell_type": "markdown",
   "metadata": {},
   "source": [
    "# 3. Investigating the social fabric using decisions and choice\n",
    "> **Note:** Refer to Section 8 of Aharony et al. (2011).\n",
    "\n",
    "While it is not possible to capture all of the decisions made by individuals, you would often find a proxy behavior that is representative of the action to be measured. In the “Friends and Family” study, the apps that users installed were used to test their decision-making process(es). Physical co-location and self-reported closeness were used to better understand social support and behavior choices. Observations based on the information above suggest that the diffusion of apps relies more on face-to-face interaction ties than on self-perceived friendship ties."
   ]
  },
  {
   "cell_type": "markdown",
   "metadata": {},
   "source": [
    "# 4. Active intervention and discussion\n",
    "> **Note:** Refer to Sections 9-12 of Aharony et al. (2011).\n",
    "\n",
    "Intervention requires novel approaches. In the study, a third experimental condition was defined. It was aimed at generating increased incentives for social influence, and potentially leveraging social capital. Another design consideration that you usually would have to take into account is designing less accurate, but more robust, algorithms. In the study, three activity level groupings were created, based on minimal data collection. This design allowed for minimal intrusion, as well as the ability to monitor an increase in activity levels.\n",
    "\n",
    "The design of the reward structure, as well as the richness of the available data, enabled the study of networks (rather than a closed team structure) for social interventions. For example, Person A receives a reward for Person B’s and Person C’s performance, while Person D and Person E receive a reward for Person A’s performance. It is then possible to disambiguate and focus on the dyadic and asymmetric relationship of the person doing the activity versus the person receiving the reward, who is motivated to convince the former to be active.\n",
    "\n",
    "\n",
    "\n",
    "> Typical [gamification approaches](http://blogs.gartner.com/brian_burke/2014/04/04/gartner-redefines-gamification/) focus on the use of rewards like points and badges to change the behavior of users, which can cause long-term damage to intrinsic motivation. Meaningful gamification is the use of design concepts from games and play to help people find personal connections to a real-world setting (Nicholson 2014).\n",
    "\n",
    "> **Note**: Refer to the overview of [social badge reward system analysis](https://www.cs.uic.edu/~jzhang2/files/2016_asonam_slides2.pdf), based on Pokemon Go, for more information."
   ]
  },
  {
   "cell_type": "markdown",
   "metadata": {},
   "source": [
    "<div class=\"alert alert-info\">\n",
    "<b>Exercise 1 Start.</b>\n",
    "</div>\n",
    "\n",
    "### Instructions\n",
    "\n",
    "> Based on the content presented in this course, do the following:\n",
    ">\n",
    "1. Describe how the approach followed in the “Friends and Family” study (as described in Section 4 of this notebook) differs from typical gamification approaches.\n",
    "2. List two potential advantages of the approach followed in the “Friends and Family” study (referred to in Question 1)."
   ]
  },
  {
   "cell_type": "markdown",
   "metadata": {},
   "source": [
    "Your markdown answer here."
   ]
  },
  {
   "cell_type": "markdown",
   "metadata": {},
   "source": [
    "#### A typical gamification approach involves:\n",
    ">* Identifying action and/or behavior to encourage, eg: check-ins, purchases, comments..\n",
    ">* Identifying the engagement style of users, eg: express, compete, explore, collaborate..\n",
    ">* Paying attention to intrinsic motivation rather than extrinsic motivation, eg: meaning, positive emotions, accomplishments, relationships..\n",
    ">* Implementing progress mechanics, eg: loyalty programmes, badges directory\n",
    ">* Making it easy to learn, but hard to master\n",
    "\n",
    "#### The approach followed by the “Friends and Family” (F&F) study is notably different from gamification in the following areas:\n",
    "> 1.F&F approach is designed for ‘intervention’ to change social behavior. Gamification method is passive.\n",
    "\n",
    "\n",
    "> 2.F&F study includes social influence on top of motivation; gamification only cares about motivation.\n",
    "\n",
    "\n",
    "> 3.F&F study uses social influence for peer-rewards, whereas gamification only has self-rewards.\n",
    "\n",
    " \n",
    "> 4.F&F approach is non-competitive; whereas gamification is competitive amongst stranger peers. The F&F reward system starts at the same baseline, regardless of whether the participants were already active, or non-active. Thus the F&F approach is mostly self-challenging (like playing golf, if you are not a pro).\n",
    "\n",
    "\n",
    "> 5.The F&F approach builds a network structure; whereas gamification is open to random strangers. F&F intervention uses network “closeness’ and pairing of participants. By doing this, the study is able to embed social aspects (and contagion effect) into a non-competitive game.\n",
    "\n",
    "\n",
    "> 6.F&F study uses pre-existing social ties and social capital to change social behavior; whereas gamification can only accommodate ‘strangers’ in an unstructured and open social network.\n"
   ]
  },
  {
   "cell_type": "markdown",
   "metadata": {},
   "source": [
    "<br>\n",
    "<div class=\"alert alert-info\">\n",
    "<b>Exercise 1 End.</b>\n",
    "</div>\n",
    "\n",
    "> **Exercise complete**:\n",
    "    \n",
    "> This is a good time to \"Save and Checkpoint\"."
   ]
  },
  {
   "cell_type": "markdown",
   "metadata": {},
   "source": [
    "# 5. Submit your notebook\n",
    "\n",
    "Please make sure that you:\n",
    "- Perform a final \"Save and Checkpoint\";\n",
    "- Download a copy of the notebook in \".ipynb\" format to your local machine using \"File\", \"Download as\", and \"IPython Notebook (.ipynb)\"; and\n",
    "- Submit a copy of this file to the Online Campus."
   ]
  },
  {
   "cell_type": "markdown",
   "metadata": {},
   "source": [
    "# 6. References\n",
    "Aharony, Nadav, Wei Pan, Cory Ip, Inas Khayal, and Alex Pentland. 2011. “SocialfMRI: Investigating and shaping social mechanisms in the real world.” Pervasive and Mobile Computing 7:643-659.\n",
    "\n",
    "Eagle, Nathan, Michael Macy, and Rob Claxton. 2010. “Network Diversity and Economic Development.” Science 328:1029-1031. doi:10.1126/science.1186605.\n",
    "\n",
    "Garland Jr., Theodore. 2015. “The Scientific Method as an Ongoing Process.” Accessed October 10. http://idea.ucr.edu/documents/flash/scientific_method/story.htm. \n",
    "\n",
    "Nicholson, Scott. 2014. “A RECIPE for meaningful gamification.” In Gamification in Education and Business, edited by Lincoln Wood and Torsten Reiners. New York: Springer. Preprint available online at http://scottnicholson.com/pubs/recipepreprint.pdf.\n"
   ]
  },
  {
   "cell_type": "code",
   "execution_count": null,
   "metadata": {
    "collapsed": true
   },
   "outputs": [],
   "source": []
  }
 ],
 "metadata": {
  "kernelspec": {
   "display_name": "Python 2",
   "language": "python",
   "name": "python2"
  },
  "language_info": {
   "codemirror_mode": {
    "name": "ipython",
    "version": 2
   },
   "file_extension": ".py",
   "mimetype": "text/x-python",
   "name": "python",
   "nbconvert_exporter": "python",
   "pygments_lexer": "ipython2",
   "version": "2.7.12"
  }
 },
 "nbformat": 4,
 "nbformat_minor": 0
}
